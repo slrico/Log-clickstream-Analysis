{
  "nbformat": 4,
  "nbformat_minor": 0,
  "metadata": {
    "colab": {
      "provenance": [],
      "authorship_tag": "ABX9TyP6LA/LpNtNbE6uLzza2C0K",
      "include_colab_link": true
    },
    "kernelspec": {
      "name": "python3",
      "display_name": "Python 3"
    },
    "language_info": {
      "name": "python"
    }
  },
  "cells": [
    {
      "cell_type": "markdown",
      "metadata": {
        "id": "view-in-github",
        "colab_type": "text"
      },
      "source": [
        "<a href=\"https://colab.research.google.com/github/slrico/Log-clickstream-Analysis/blob/main/OnlineShoppersPurchasingPrediction.ipynb\" target=\"_parent\"><img src=\"https://colab.research.google.com/assets/colab-badge.svg\" alt=\"Open In Colab\"/></a>"
      ]
    },
    {
      "cell_type": "markdown",
      "source": [
        "<p> Of the 12,330 sessions in the dataset, 84.5% (10,422) were negative class samples that did not end with shopping, and the rest (1908) were positive class samples ending with shopping.</p>"
      ],
      "metadata": {
        "id": "wqXfMTYvi60X"
      }
    },
    {
      "cell_type": "code",
      "source": [
        "%%capture\n",
        "!pip install ucimlrepo"
      ],
      "metadata": {
        "id": "tktSWQWNjEfa"
      },
      "execution_count": 4,
      "outputs": []
    },
    {
      "cell_type": "markdown",
      "source": [
        "# Understanding the Online Shop Purchases Dataset\n",
        "\n",
        "This dataset contains information about user sessions on an online shopping platform. It includes various features describing each session, such as the number of page views, duration of the visit, and browsing behavior. The goal of the dataset is to predict whether a user will make a purchase during their visit.\n",
        "\n",
        "**Key points about the data:**\n",
        "\n",
        "- **Features:** Details about each session, like pages viewed, time spent, and browsing patterns.\n",
        "- **Target:** A label indicating if the user ended up making a purchase (`True`) or left without buying (`False`).\n",
        "\n",
        "This dataset helps analyze shopping behavior and build models to predict purchasing intentions, improving online marketing strategies.\n",
        "\n",
        "---\n"
      ],
      "metadata": {
        "id": "D1IgKe1FsBBD"
      }
    },
    {
      "cell_type": "code",
      "execution_count": 5,
      "metadata": {
        "colab": {
          "base_uri": "https://localhost:8080/"
        },
        "id": "d5fZBPs2i0lw",
        "outputId": "8878fa88-b21a-4077-a03c-3f2494899b12"
      },
      "outputs": [
        {
          "output_type": "stream",
          "name": "stdout",
          "text": [
            "Dataset Metadata (First 3 items):\n",
            "('uci_id', 468)\n",
            "('name', 'Online Shoppers Purchasing Intention Dataset')\n",
            "(   'repository_url',\n",
            "    'https://archive.ics.uci.edu/dataset/468/online+shoppers+purchasing+intention+dataset')\n",
            "\n",
            "Variable Information (First 3 variables):\n",
            "'name'\n",
            "'role'\n",
            "'type'\n",
            "'demographic'\n",
            "'description'\n",
            "'units'\n",
            "'missing_values'\n",
            "\n",
            "Full feature dataset (first 20 rows):\n",
            "    Administrative  Administrative_Duration  Informational  Informational_Duration  ProductRelated  ProductRelated_Duration  BounceRates  ExitRates  PageValues  SpecialDay Month  OperatingSystems  Browser  Region  TrafficType        VisitorType  Weekend\n",
            "0                0                      0.0              0                     0.0               1                 0.000000     0.200000   0.200000         0.0         0.0   Feb                 1        1       1            1  Returning_Visitor    False\n",
            "1                0                      0.0              0                     0.0               2                64.000000     0.000000   0.100000         0.0         0.0   Feb                 2        2       1            2  Returning_Visitor    False\n",
            "2                0                      0.0              0                     0.0               1                 0.000000     0.200000   0.200000         0.0         0.0   Feb                 4        1       9            3  Returning_Visitor    False\n",
            "3                0                      0.0              0                     0.0               2                 2.666667     0.050000   0.140000         0.0         0.0   Feb                 3        2       2            4  Returning_Visitor    False\n",
            "4                0                      0.0              0                     0.0              10               627.500000     0.020000   0.050000         0.0         0.0   Feb                 3        3       1            4  Returning_Visitor     True\n",
            "5                0                      0.0              0                     0.0              19               154.216667     0.015789   0.024561         0.0         0.0   Feb                 2        2       1            3  Returning_Visitor    False\n",
            "6                0                      0.0              0                     0.0               1                 0.000000     0.200000   0.200000         0.0         0.4   Feb                 2        4       3            3  Returning_Visitor    False\n",
            "7                1                      0.0              0                     0.0               0                 0.000000     0.200000   0.200000         0.0         0.0   Feb                 1        2       1            5  Returning_Visitor     True\n",
            "8                0                      0.0              0                     0.0               2                37.000000     0.000000   0.100000         0.0         0.8   Feb                 2        2       2            3  Returning_Visitor    False\n",
            "9                0                      0.0              0                     0.0               3               738.000000     0.000000   0.022222         0.0         0.4   Feb                 2        4       1            2  Returning_Visitor    False\n",
            "10               0                      0.0              0                     0.0               3               395.000000     0.000000   0.066667         0.0         0.0   Feb                 1        1       3            3  Returning_Visitor    False\n",
            "11               0                      0.0              0                     0.0              16               407.750000     0.018750   0.025833         0.0         0.4   Feb                 1        1       4            3  Returning_Visitor    False\n",
            "12               0                      0.0              0                     0.0               7               280.500000     0.000000   0.028571         0.0         0.0   Feb                 1        1       1            3  Returning_Visitor    False\n",
            "13               0                      0.0              0                     0.0               6                98.000000     0.000000   0.066667         0.0         0.0   Feb                 2        5       1            3  Returning_Visitor    False\n",
            "14               0                      0.0              0                     0.0               2                68.000000     0.000000   0.100000         0.0         0.0   Feb                 3        2       3            3  Returning_Visitor    False\n",
            "15               2                     53.0              0                     0.0              23              1668.285119     0.008333   0.016313         0.0         0.0   Feb                 1        1       9            3  Returning_Visitor    False\n",
            "16               0                      0.0              0                     0.0               1                 0.000000     0.200000   0.200000         0.0         0.0   Feb                 1        1       4            3  Returning_Visitor    False\n",
            "17               0                      0.0              0                     0.0              13               334.966667     0.000000   0.007692         0.0         0.0   Feb                 1        1       1            4  Returning_Visitor     True\n",
            "18               0                      0.0              0                     0.0               2                32.000000     0.000000   0.100000         0.0         0.0   Feb                 2        2       1            3  Returning_Visitor    False\n",
            "19               0                      0.0              0                     0.0              20              2981.166667     0.000000   0.010000         0.0         0.0   Feb                 2        4       4            4  Returning_Visitor    False\n",
            "\n",
            "First 20 targets:\n",
            "    Revenue\n",
            "0     False\n",
            "1     False\n",
            "2     False\n",
            "3     False\n",
            "4     False\n",
            "5     False\n",
            "6     False\n",
            "7     False\n",
            "8     False\n",
            "9     False\n",
            "10    False\n",
            "11    False\n",
            "12    False\n",
            "13    False\n",
            "14    False\n",
            "15    False\n",
            "16    False\n",
            "17    False\n",
            "18    False\n",
            "19    False\n"
          ]
        }
      ],
      "source": [
        "from ucimlrepo import fetch_ucirepo\n",
        "import pprint\n",
        "\n",
        "# fetch dataset\n",
        "online_shoppers_purchasing_intention_dataset = fetch_ucirepo(id=468)\n",
        "\n",
        "# data (as pandas dataframes)\n",
        "X = online_shoppers_purchasing_intention_dataset.data.features\n",
        "y = online_shoppers_purchasing_intention_dataset.data.targets\n",
        "\n",
        "# Limit and print only the first 3 items of metadata\n",
        "print(\"Dataset Metadata (First 3 items):\")\n",
        "for item in list(online_shoppers_purchasing_intention_dataset.metadata.items())[:3]:\n",
        "    pprint.pprint(item, indent=4)\n",
        "\n",
        "# Limit and print only the first 3 variable info\n",
        "print(\"\\nVariable Information (First 3 variables):\")\n",
        "for var in online_shoppers_purchasing_intention_dataset.variables[:3]:\n",
        "    pprint.pprint(var, indent=4)\n",
        "\n",
        "# Display the entire feature DataFrame as a string for better readability\n",
        "print(\"\\nFull feature dataset (first 20 rows):\")\n",
        "print(X.head(20).to_string())\n",
        "\n",
        "# Display the first 20 targets\n",
        "print(\"\\nFirst 20 targets:\")\n",
        "print(y.head(20).to_string())"
      ]
    },
    {
      "cell_type": "markdown",
      "source": [
        "# Analysis Task"
      ],
      "metadata": {
        "id": "YsfS1mPssYwi"
      }
    },
    {
      "cell_type": "code",
      "source": [],
      "metadata": {
        "id": "BDCK1PjPsYbp"
      },
      "execution_count": null,
      "outputs": []
    }
  ]
}