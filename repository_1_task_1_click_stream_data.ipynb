{
  "nbformat": 4,
  "nbformat_minor": 0,
  "metadata": {
    "colab": {
      "provenance": [],
      "authorship_tag": "ABX9TyNcBWhGP3QmiadrZ2e+umvH",
      "include_colab_link": true
    },
    "kernelspec": {
      "name": "python3",
      "display_name": "Python 3"
    },
    "language_info": {
      "name": "python"
    },
    "widgets": {
      "application/vnd.jupyter.widget-state+json": {
        "481fea97863d4f8ba49b065c09f7c1fd": {
          "model_module": "@jupyter-widgets/controls",
          "model_name": "HBoxModel",
          "model_module_version": "1.5.0",
          "state": {
            "_dom_classes": [],
            "_model_module": "@jupyter-widgets/controls",
            "_model_module_version": "1.5.0",
            "_model_name": "HBoxModel",
            "_view_count": null,
            "_view_module": "@jupyter-widgets/controls",
            "_view_module_version": "1.5.0",
            "_view_name": "HBoxView",
            "box_style": "",
            "children": [
              "IPY_MODEL_536cc8a0cc60481096b9315f11b8c6bc",
              "IPY_MODEL_2113f58edbfc45de85e88987a02918e8",
              "IPY_MODEL_9e7a26b42c224cbeb83392b39f217040"
            ],
            "layout": "IPY_MODEL_fe02fcb7dc674f59bd0201dd80e33ac7"
          }
        },
        "536cc8a0cc60481096b9315f11b8c6bc": {
          "model_module": "@jupyter-widgets/controls",
          "model_name": "HTMLModel",
          "model_module_version": "1.5.0",
          "state": {
            "_dom_classes": [],
            "_model_module": "@jupyter-widgets/controls",
            "_model_module_version": "1.5.0",
            "_model_name": "HTMLModel",
            "_view_count": null,
            "_view_module": "@jupyter-widgets/controls",
            "_view_module_version": "1.5.0",
            "_view_name": "HTMLView",
            "description": "",
            "description_tooltip": null,
            "layout": "IPY_MODEL_2df7613aef214ea6878eb34c89ac6217",
            "placeholder": "​",
            "style": "IPY_MODEL_dab4bd0cea8047018f60c9af7d9f9405",
            "value": "Validation DataLoader 0: 100%"
          }
        },
        "2113f58edbfc45de85e88987a02918e8": {
          "model_module": "@jupyter-widgets/controls",
          "model_name": "FloatProgressModel",
          "model_module_version": "1.5.0",
          "state": {
            "_dom_classes": [],
            "_model_module": "@jupyter-widgets/controls",
            "_model_module_version": "1.5.0",
            "_model_name": "FloatProgressModel",
            "_view_count": null,
            "_view_module": "@jupyter-widgets/controls",
            "_view_module_version": "1.5.0",
            "_view_name": "ProgressView",
            "bar_style": "success",
            "description": "",
            "description_tooltip": null,
            "layout": "IPY_MODEL_9bc0c44f75b74050badb3e65c796e24c",
            "max": 1,
            "min": 0,
            "orientation": "horizontal",
            "style": "IPY_MODEL_604236bc5cb848e7a849f64983ac303c",
            "value": 1
          }
        },
        "9e7a26b42c224cbeb83392b39f217040": {
          "model_module": "@jupyter-widgets/controls",
          "model_name": "HTMLModel",
          "model_module_version": "1.5.0",
          "state": {
            "_dom_classes": [],
            "_model_module": "@jupyter-widgets/controls",
            "_model_module_version": "1.5.0",
            "_model_name": "HTMLModel",
            "_view_count": null,
            "_view_module": "@jupyter-widgets/controls",
            "_view_module_version": "1.5.0",
            "_view_name": "HTMLView",
            "description": "",
            "description_tooltip": null,
            "layout": "IPY_MODEL_a54c2e71887c4ebe970420f9f49fd22e",
            "placeholder": "​",
            "style": "IPY_MODEL_58fb6e96fea84d73b3d3060ad44b4e5d",
            "value": " 1/1 [00:00&lt;00:00, 16.80it/s]"
          }
        },
        "fe02fcb7dc674f59bd0201dd80e33ac7": {
          "model_module": "@jupyter-widgets/base",
          "model_name": "LayoutModel",
          "model_module_version": "1.2.0",
          "state": {
            "_model_module": "@jupyter-widgets/base",
            "_model_module_version": "1.2.0",
            "_model_name": "LayoutModel",
            "_view_count": null,
            "_view_module": "@jupyter-widgets/base",
            "_view_module_version": "1.2.0",
            "_view_name": "LayoutView",
            "align_content": null,
            "align_items": null,
            "align_self": null,
            "border": null,
            "bottom": null,
            "display": "inline-flex",
            "flex": null,
            "flex_flow": "row wrap",
            "grid_area": null,
            "grid_auto_columns": null,
            "grid_auto_flow": null,
            "grid_auto_rows": null,
            "grid_column": null,
            "grid_gap": null,
            "grid_row": null,
            "grid_template_areas": null,
            "grid_template_columns": null,
            "grid_template_rows": null,
            "height": null,
            "justify_content": null,
            "justify_items": null,
            "left": null,
            "margin": null,
            "max_height": null,
            "max_width": null,
            "min_height": null,
            "min_width": null,
            "object_fit": null,
            "object_position": null,
            "order": null,
            "overflow": null,
            "overflow_x": null,
            "overflow_y": null,
            "padding": null,
            "right": null,
            "top": null,
            "visibility": null,
            "width": "100%"
          }
        },
        "2df7613aef214ea6878eb34c89ac6217": {
          "model_module": "@jupyter-widgets/base",
          "model_name": "LayoutModel",
          "model_module_version": "1.2.0",
          "state": {
            "_model_module": "@jupyter-widgets/base",
            "_model_module_version": "1.2.0",
            "_model_name": "LayoutModel",
            "_view_count": null,
            "_view_module": "@jupyter-widgets/base",
            "_view_module_version": "1.2.0",
            "_view_name": "LayoutView",
            "align_content": null,
            "align_items": null,
            "align_self": null,
            "border": null,
            "bottom": null,
            "display": null,
            "flex": null,
            "flex_flow": null,
            "grid_area": null,
            "grid_auto_columns": null,
            "grid_auto_flow": null,
            "grid_auto_rows": null,
            "grid_column": null,
            "grid_gap": null,
            "grid_row": null,
            "grid_template_areas": null,
            "grid_template_columns": null,
            "grid_template_rows": null,
            "height": null,
            "justify_content": null,
            "justify_items": null,
            "left": null,
            "margin": null,
            "max_height": null,
            "max_width": null,
            "min_height": null,
            "min_width": null,
            "object_fit": null,
            "object_position": null,
            "order": null,
            "overflow": null,
            "overflow_x": null,
            "overflow_y": null,
            "padding": null,
            "right": null,
            "top": null,
            "visibility": null,
            "width": null
          }
        },
        "dab4bd0cea8047018f60c9af7d9f9405": {
          "model_module": "@jupyter-widgets/controls",
          "model_name": "DescriptionStyleModel",
          "model_module_version": "1.5.0",
          "state": {
            "_model_module": "@jupyter-widgets/controls",
            "_model_module_version": "1.5.0",
            "_model_name": "DescriptionStyleModel",
            "_view_count": null,
            "_view_module": "@jupyter-widgets/base",
            "_view_module_version": "1.2.0",
            "_view_name": "StyleView",
            "description_width": ""
          }
        },
        "9bc0c44f75b74050badb3e65c796e24c": {
          "model_module": "@jupyter-widgets/base",
          "model_name": "LayoutModel",
          "model_module_version": "1.2.0",
          "state": {
            "_model_module": "@jupyter-widgets/base",
            "_model_module_version": "1.2.0",
            "_model_name": "LayoutModel",
            "_view_count": null,
            "_view_module": "@jupyter-widgets/base",
            "_view_module_version": "1.2.0",
            "_view_name": "LayoutView",
            "align_content": null,
            "align_items": null,
            "align_self": null,
            "border": null,
            "bottom": null,
            "display": null,
            "flex": "2",
            "flex_flow": null,
            "grid_area": null,
            "grid_auto_columns": null,
            "grid_auto_flow": null,
            "grid_auto_rows": null,
            "grid_column": null,
            "grid_gap": null,
            "grid_row": null,
            "grid_template_areas": null,
            "grid_template_columns": null,
            "grid_template_rows": null,
            "height": null,
            "justify_content": null,
            "justify_items": null,
            "left": null,
            "margin": null,
            "max_height": null,
            "max_width": null,
            "min_height": null,
            "min_width": null,
            "object_fit": null,
            "object_position": null,
            "order": null,
            "overflow": null,
            "overflow_x": null,
            "overflow_y": null,
            "padding": null,
            "right": null,
            "top": null,
            "visibility": null,
            "width": null
          }
        },
        "604236bc5cb848e7a849f64983ac303c": {
          "model_module": "@jupyter-widgets/controls",
          "model_name": "ProgressStyleModel",
          "model_module_version": "1.5.0",
          "state": {
            "_model_module": "@jupyter-widgets/controls",
            "_model_module_version": "1.5.0",
            "_model_name": "ProgressStyleModel",
            "_view_count": null,
            "_view_module": "@jupyter-widgets/base",
            "_view_module_version": "1.2.0",
            "_view_name": "StyleView",
            "bar_color": null,
            "description_width": ""
          }
        },
        "a54c2e71887c4ebe970420f9f49fd22e": {
          "model_module": "@jupyter-widgets/base",
          "model_name": "LayoutModel",
          "model_module_version": "1.2.0",
          "state": {
            "_model_module": "@jupyter-widgets/base",
            "_model_module_version": "1.2.0",
            "_model_name": "LayoutModel",
            "_view_count": null,
            "_view_module": "@jupyter-widgets/base",
            "_view_module_version": "1.2.0",
            "_view_name": "LayoutView",
            "align_content": null,
            "align_items": null,
            "align_self": null,
            "border": null,
            "bottom": null,
            "display": null,
            "flex": null,
            "flex_flow": null,
            "grid_area": null,
            "grid_auto_columns": null,
            "grid_auto_flow": null,
            "grid_auto_rows": null,
            "grid_column": null,
            "grid_gap": null,
            "grid_row": null,
            "grid_template_areas": null,
            "grid_template_columns": null,
            "grid_template_rows": null,
            "height": null,
            "justify_content": null,
            "justify_items": null,
            "left": null,
            "margin": null,
            "max_height": null,
            "max_width": null,
            "min_height": null,
            "min_width": null,
            "object_fit": null,
            "object_position": null,
            "order": null,
            "overflow": null,
            "overflow_x": null,
            "overflow_y": null,
            "padding": null,
            "right": null,
            "top": null,
            "visibility": null,
            "width": null
          }
        },
        "58fb6e96fea84d73b3d3060ad44b4e5d": {
          "model_module": "@jupyter-widgets/controls",
          "model_name": "DescriptionStyleModel",
          "model_module_version": "1.5.0",
          "state": {
            "_model_module": "@jupyter-widgets/controls",
            "_model_module_version": "1.5.0",
            "_model_name": "DescriptionStyleModel",
            "_view_count": null,
            "_view_module": "@jupyter-widgets/base",
            "_view_module_version": "1.2.0",
            "_view_name": "StyleView",
            "description_width": ""
          }
        },
        "1760334bbf734aa98ae1462f823be9e6": {
          "model_module": "@jupyter-widgets/controls",
          "model_name": "HBoxModel",
          "model_module_version": "1.5.0",
          "state": {
            "_dom_classes": [],
            "_model_module": "@jupyter-widgets/controls",
            "_model_module_version": "1.5.0",
            "_model_name": "HBoxModel",
            "_view_count": null,
            "_view_module": "@jupyter-widgets/controls",
            "_view_module_version": "1.5.0",
            "_view_name": "HBoxView",
            "box_style": "",
            "children": [
              "IPY_MODEL_8c5bfc32672a4c2382837c324993a262",
              "IPY_MODEL_54b01ea5c6354098977bb31c5c9f14b9",
              "IPY_MODEL_776ea94cd4104126ab645fdf24362b8d"
            ],
            "layout": "IPY_MODEL_ba2072b8f3374c5ab67547ca8c32c788"
          }
        },
        "8c5bfc32672a4c2382837c324993a262": {
          "model_module": "@jupyter-widgets/controls",
          "model_name": "HTMLModel",
          "model_module_version": "1.5.0",
          "state": {
            "_dom_classes": [],
            "_model_module": "@jupyter-widgets/controls",
            "_model_module_version": "1.5.0",
            "_model_name": "HTMLModel",
            "_view_count": null,
            "_view_module": "@jupyter-widgets/controls",
            "_view_module_version": "1.5.0",
            "_view_name": "HTMLView",
            "description": "",
            "description_tooltip": null,
            "layout": "IPY_MODEL_e83a1391ba7d44ce882147ed9357fdfa",
            "placeholder": "​",
            "style": "IPY_MODEL_da3f238cb196416abb08d39de032e698",
            "value": "Validation DataLoader 0: 100%"
          }
        },
        "54b01ea5c6354098977bb31c5c9f14b9": {
          "model_module": "@jupyter-widgets/controls",
          "model_name": "FloatProgressModel",
          "model_module_version": "1.5.0",
          "state": {
            "_dom_classes": [],
            "_model_module": "@jupyter-widgets/controls",
            "_model_module_version": "1.5.0",
            "_model_name": "FloatProgressModel",
            "_view_count": null,
            "_view_module": "@jupyter-widgets/controls",
            "_view_module_version": "1.5.0",
            "_view_name": "ProgressView",
            "bar_style": "success",
            "description": "",
            "description_tooltip": null,
            "layout": "IPY_MODEL_ff821ee59526464fa5880e888979772f",
            "max": 1,
            "min": 0,
            "orientation": "horizontal",
            "style": "IPY_MODEL_d64ae8c8214045b8bebaff7ee321717f",
            "value": 1
          }
        },
        "776ea94cd4104126ab645fdf24362b8d": {
          "model_module": "@jupyter-widgets/controls",
          "model_name": "HTMLModel",
          "model_module_version": "1.5.0",
          "state": {
            "_dom_classes": [],
            "_model_module": "@jupyter-widgets/controls",
            "_model_module_version": "1.5.0",
            "_model_name": "HTMLModel",
            "_view_count": null,
            "_view_module": "@jupyter-widgets/controls",
            "_view_module_version": "1.5.0",
            "_view_name": "HTMLView",
            "description": "",
            "description_tooltip": null,
            "layout": "IPY_MODEL_96304f957b004f7ab345dcbbf6d88dbd",
            "placeholder": "​",
            "style": "IPY_MODEL_fd7ae83b71694355b0d0c681c79ebe8f",
            "value": " 1/1 [00:00&lt;00:00, 23.54it/s]"
          }
        },
        "ba2072b8f3374c5ab67547ca8c32c788": {
          "model_module": "@jupyter-widgets/base",
          "model_name": "LayoutModel",
          "model_module_version": "1.2.0",
          "state": {
            "_model_module": "@jupyter-widgets/base",
            "_model_module_version": "1.2.0",
            "_model_name": "LayoutModel",
            "_view_count": null,
            "_view_module": "@jupyter-widgets/base",
            "_view_module_version": "1.2.0",
            "_view_name": "LayoutView",
            "align_content": null,
            "align_items": null,
            "align_self": null,
            "border": null,
            "bottom": null,
            "display": "inline-flex",
            "flex": null,
            "flex_flow": "row wrap",
            "grid_area": null,
            "grid_auto_columns": null,
            "grid_auto_flow": null,
            "grid_auto_rows": null,
            "grid_column": null,
            "grid_gap": null,
            "grid_row": null,
            "grid_template_areas": null,
            "grid_template_columns": null,
            "grid_template_rows": null,
            "height": null,
            "justify_content": null,
            "justify_items": null,
            "left": null,
            "margin": null,
            "max_height": null,
            "max_width": null,
            "min_height": null,
            "min_width": null,
            "object_fit": null,
            "object_position": null,
            "order": null,
            "overflow": null,
            "overflow_x": null,
            "overflow_y": null,
            "padding": null,
            "right": null,
            "top": null,
            "visibility": null,
            "width": "100%"
          }
        },
        "e83a1391ba7d44ce882147ed9357fdfa": {
          "model_module": "@jupyter-widgets/base",
          "model_name": "LayoutModel",
          "model_module_version": "1.2.0",
          "state": {
            "_model_module": "@jupyter-widgets/base",
            "_model_module_version": "1.2.0",
            "_model_name": "LayoutModel",
            "_view_count": null,
            "_view_module": "@jupyter-widgets/base",
            "_view_module_version": "1.2.0",
            "_view_name": "LayoutView",
            "align_content": null,
            "align_items": null,
            "align_self": null,
            "border": null,
            "bottom": null,
            "display": null,
            "flex": null,
            "flex_flow": null,
            "grid_area": null,
            "grid_auto_columns": null,
            "grid_auto_flow": null,
            "grid_auto_rows": null,
            "grid_column": null,
            "grid_gap": null,
            "grid_row": null,
            "grid_template_areas": null,
            "grid_template_columns": null,
            "grid_template_rows": null,
            "height": null,
            "justify_content": null,
            "justify_items": null,
            "left": null,
            "margin": null,
            "max_height": null,
            "max_width": null,
            "min_height": null,
            "min_width": null,
            "object_fit": null,
            "object_position": null,
            "order": null,
            "overflow": null,
            "overflow_x": null,
            "overflow_y": null,
            "padding": null,
            "right": null,
            "top": null,
            "visibility": null,
            "width": null
          }
        },
        "da3f238cb196416abb08d39de032e698": {
          "model_module": "@jupyter-widgets/controls",
          "model_name": "DescriptionStyleModel",
          "model_module_version": "1.5.0",
          "state": {
            "_model_module": "@jupyter-widgets/controls",
            "_model_module_version": "1.5.0",
            "_model_name": "DescriptionStyleModel",
            "_view_count": null,
            "_view_module": "@jupyter-widgets/base",
            "_view_module_version": "1.2.0",
            "_view_name": "StyleView",
            "description_width": ""
          }
        },
        "ff821ee59526464fa5880e888979772f": {
          "model_module": "@jupyter-widgets/base",
          "model_name": "LayoutModel",
          "model_module_version": "1.2.0",
          "state": {
            "_model_module": "@jupyter-widgets/base",
            "_model_module_version": "1.2.0",
            "_model_name": "LayoutModel",
            "_view_count": null,
            "_view_module": "@jupyter-widgets/base",
            "_view_module_version": "1.2.0",
            "_view_name": "LayoutView",
            "align_content": null,
            "align_items": null,
            "align_self": null,
            "border": null,
            "bottom": null,
            "display": null,
            "flex": "2",
            "flex_flow": null,
            "grid_area": null,
            "grid_auto_columns": null,
            "grid_auto_flow": null,
            "grid_auto_rows": null,
            "grid_column": null,
            "grid_gap": null,
            "grid_row": null,
            "grid_template_areas": null,
            "grid_template_columns": null,
            "grid_template_rows": null,
            "height": null,
            "justify_content": null,
            "justify_items": null,
            "left": null,
            "margin": null,
            "max_height": null,
            "max_width": null,
            "min_height": null,
            "min_width": null,
            "object_fit": null,
            "object_position": null,
            "order": null,
            "overflow": null,
            "overflow_x": null,
            "overflow_y": null,
            "padding": null,
            "right": null,
            "top": null,
            "visibility": null,
            "width": null
          }
        },
        "d64ae8c8214045b8bebaff7ee321717f": {
          "model_module": "@jupyter-widgets/controls",
          "model_name": "ProgressStyleModel",
          "model_module_version": "1.5.0",
          "state": {
            "_model_module": "@jupyter-widgets/controls",
            "_model_module_version": "1.5.0",
            "_model_name": "ProgressStyleModel",
            "_view_count": null,
            "_view_module": "@jupyter-widgets/base",
            "_view_module_version": "1.2.0",
            "_view_name": "StyleView",
            "bar_color": null,
            "description_width": ""
          }
        },
        "96304f957b004f7ab345dcbbf6d88dbd": {
          "model_module": "@jupyter-widgets/base",
          "model_name": "LayoutModel",
          "model_module_version": "1.2.0",
          "state": {
            "_model_module": "@jupyter-widgets/base",
            "_model_module_version": "1.2.0",
            "_model_name": "LayoutModel",
            "_view_count": null,
            "_view_module": "@jupyter-widgets/base",
            "_view_module_version": "1.2.0",
            "_view_name": "LayoutView",
            "align_content": null,
            "align_items": null,
            "align_self": null,
            "border": null,
            "bottom": null,
            "display": null,
            "flex": null,
            "flex_flow": null,
            "grid_area": null,
            "grid_auto_columns": null,
            "grid_auto_flow": null,
            "grid_auto_rows": null,
            "grid_column": null,
            "grid_gap": null,
            "grid_row": null,
            "grid_template_areas": null,
            "grid_template_columns": null,
            "grid_template_rows": null,
            "height": null,
            "justify_content": null,
            "justify_items": null,
            "left": null,
            "margin": null,
            "max_height": null,
            "max_width": null,
            "min_height": null,
            "min_width": null,
            "object_fit": null,
            "object_position": null,
            "order": null,
            "overflow": null,
            "overflow_x": null,
            "overflow_y": null,
            "padding": null,
            "right": null,
            "top": null,
            "visibility": null,
            "width": null
          }
        },
        "fd7ae83b71694355b0d0c681c79ebe8f": {
          "model_module": "@jupyter-widgets/controls",
          "model_name": "DescriptionStyleModel",
          "model_module_version": "1.5.0",
          "state": {
            "_model_module": "@jupyter-widgets/controls",
            "_model_module_version": "1.5.0",
            "_model_name": "DescriptionStyleModel",
            "_view_count": null,
            "_view_module": "@jupyter-widgets/base",
            "_view_module_version": "1.2.0",
            "_view_name": "StyleView",
            "description_width": ""
          }
        }
      }
    }
  },
  "cells": [
    {
      "cell_type": "markdown",
      "metadata": {
        "id": "view-in-github",
        "colab_type": "text"
      },
      "source": [
        "<a href=\"https://colab.research.google.com/github/unajmieh/clickstream-Log-Analysis/blob/main/repository_1_task_1_click_stream_data.ipynb\" target=\"_parent\"><img src=\"https://colab.research.google.com/assets/colab-badge.svg\" alt=\"Open In Colab\"/></a>"
      ]
    },
    {
      "cell_type": "code",
      "execution_count": 3,
      "metadata": {
        "colab": {
          "base_uri": "https://localhost:8080/",
          "height": 437
        },
        "id": "r2jRPFaZ0IJB",
        "outputId": "5596b54b-4aac-4332-d19b-03f75d8bdf67"
      },
      "outputs": [
        {
          "output_type": "display_data",
          "data": {
            "text/plain": [
              "<IPython.core.display.Markdown object>"
            ],
            "text/markdown": "### E-Shop Clothing 2008 Data Description\n\nData description e-shop clothing 2008\n\nVariables:\n\n1. YEAR (2008)\n\n========================================================\n\n2. MONTH -> from April (4) to August (8)\n\n========================================================\n\n3. DAY -> day number of the month\n\n========================================================\n\n4. ORDER -> sequence of clicks during one session\n\n========================================================\n\n5. COUNTRY -> variable indicating the country of origin of the IP address with the\nfollowing categories:\n\n1-Australia\n2-Austria\n3-Belgium\n4-British Virgin Islands\n5-Cayman Islands\n6-Christmas Island\n7-Croatia\n8-Cyprus\n9-Czech Republic\n10-Denmark\n11-Estonia\n12-unidentified\n13-Faroe Islands\n14-Finland\n15-France\n16-Germany\n17-Greece\n18-Hungary\n19-Iceland\n20-India\n21-Ireland\n22-Italy"
          },
          "metadata": {}
        }
      ],
      "source": [
        "with open('e-shop clothing 2008 data description.txt', 'r', encoding='latin1') as file:\n",
        "    data = file.readlines()\n",
        "summary_lines = [line.strip() for line in data][:45]\n",
        "summary_output = \"\\n\".join(summary_lines)\n",
        "from IPython.display import display, Markdown\n",
        "display(Markdown(f\"### E-Shop Clothing 2008 Data Description\\n\\n{summary_output}\"))"
      ]
    },
    {
      "cell_type": "code",
      "source": [
        "import pandas as pd\n",
        "\n",
        "def read_and_display_csv(file_path, delimiter=';', max_rows=20):\n",
        "    \"\"\"\n",
        "    Read a CSV file and display the first few rows with customized settings.\n",
        "\n",
        "    Parameters:\n",
        "    - file_path (str): The path to the CSV file to be read.\n",
        "    - delimiter (str): The delimiter used in the CSV file (default is ';').\n",
        "    - max_rows (int): Maximum number of rows to display (default is 20).\n",
        "    \"\"\"\n",
        "    df = pd.read_csv(file_path, sep=delimiter)\n",
        "    # Set display options\n",
        "    pd.set_option('display.max_rows', max_rows)  # Set the maximum number of rows to display\n",
        "    pd.set_option('display.max_columns', None)  # Show all columns\n",
        "    pd.set_option('display.width', 1000)  # Set width for better visual presentation\n",
        "    pd.set_option('display.float_format', '{:.2f}'.format)  # Format floats\n",
        "    print(df.head())\n",
        "\n",
        "if __name__ == \"__main__\":\n",
        "    file_name = 'e-shop clothing 2008.csv'  # Specify your CSV file name here\n",
        "    read_and_display_csv(file_name)\n"
      ],
      "metadata": {
        "colab": {
          "base_uri": "https://localhost:8080/"
        },
        "id": "dBuFPtmtBtZc",
        "outputId": "ceb9c7af-5e00-4477-8975-66327e4ff6b8"
      },
      "execution_count": 4,
      "outputs": [
        {
          "output_type": "stream",
          "name": "stdout",
          "text": [
            "   year  month  day  order  country  session ID  page 1 (main category) page 2 (clothing model)  colour  location  model photography  price  price 2  page\n",
            "0  2008      4    1      1       29           1                       1                     A13       1         5                  1     28        2     1\n",
            "1  2008      4    1      2       29           1                       1                     A16       1         6                  1     33        2     1\n",
            "2  2008      4    1      3       29           1                       2                      B4      10         2                  1     52        1     1\n",
            "3  2008      4    1      4       29           1                       2                     B17       6         6                  2     38        2     1\n",
            "4  2008      4    1      5       29           1                       2                      B8       4         3                  2     52        1     1\n"
          ]
        }
      ]
    },
    {
      "cell_type": "markdown",
      "source": [
        "## E-Shop Order Data Description  \n",
        "\n",
        "The following details are associated with each order in the dataset:  \n",
        "\n",
        "- **Year, Month, Day:** Date of the order.  \n",
        "- **Order:** Unique identifier for each order.  \n",
        "- **Country:** Country from where the order was placed.  \n",
        "- **Session ID:** Identifier for the user's session.  \n",
        "- **Page 1 (Main Category):** Main category of products viewed.  \n",
        "- **Page 2 (Clothing Model):** Specific model of clothing viewed.  \n",
        "- **Colour:** Color of the clothing model.  \n",
        "- **Location:** Likely refers to geographic location or site location.  \n",
        "- **Model Photography:** Probably the model under which the clothing was photographed.  \n",
        "- **Price:** Prices associated with the items (unclear what differentiates the two price fields).  \n",
        "- **Price 2:** A second price field associated with the items.  \n",
        "- **Page:** Possibly refers to pagination in the e-commerce platform."
      ],
      "metadata": {
        "id": "UiHBb9AmCnir"
      }
    },
    {
      "cell_type": "code",
      "source": [
        "import pandas as pd\n",
        "import matplotlib.pyplot as plt\n",
        "\n",
        "def analyze_monthly_orders(file_path):\n",
        "    df = pd.read_csv(file_path, sep=';')  # Adjust the separator if needed\n",
        "    df['date'] = pd.to_datetime(df[['year', 'month', 'day']])\n",
        "    monthly_orders = df.groupby(df['date'].dt.to_period(\"M\")).size()\n",
        "    print(monthly_orders)  # Print the monthly orders\n",
        "    # Plotting the trend with a line plot\n",
        "    plt.figure(figsize=(12, 6))  # Increase figure size\n",
        "    plt.plot(monthly_orders.index.astype(str), monthly_orders, marker='o', linestyle='-', color='teal', linewidth=2, markersize=6)\n",
        "    plt.title('Monthly Orders Trend', fontsize=16)\n",
        "    plt.xlabel('Month', fontsize=14)\n",
        "    plt.ylabel('Number of Orders', fontsize=14)\n",
        "    plt.xticks(rotation=45)  # Rotate x-axis labels for better readability\n",
        "    plt.grid(axis='y', linestyle='--', alpha=0.7)  # Horizontal gridlines for better readability\n",
        "    plt.tight_layout()  # Adjust layout to prevent clipping of labels\n",
        "    plt.show()\n",
        "\n",
        "if __name__ == \"__main__\":\n",
        "    file_name = 'e-shop clothing 2008.csv'\n",
        "    analyze_monthly_orders(file_name)\n"
      ],
      "metadata": {
        "colab": {
          "base_uri": "https://localhost:8080/",
          "height": 728
        },
        "id": "6QAx7oB5D4d1",
        "outputId": "8eaeee22-95b1-4590-d28c-09a6d76de775"
      },
      "execution_count": 5,
      "outputs": [
        {
          "output_type": "stream",
          "name": "stdout",
          "text": [
            "date\n",
            "2008-04    48199\n",
            "2008-05    35654\n",
            "2008-06    32242\n",
            "2008-07    35231\n",
            "2008-08    14148\n",
            "Freq: M, dtype: int64\n"
          ]
        },
        {
          "output_type": "display_data",
          "data": {
            "text/plain": [
              "<Figure size 1200x600 with 1 Axes>"
            ],
            "image/png": "[encoded data removed]"
          },
          "metadata": {}
        }
      ]
    },
    {
      "cell_type": "markdown",
      "source": [
        "5. Moving Average/Exponential Smoothing\n",
        "Smoothing Techniques:\n",
        "\n",
        "- Apply moving averages or exponential smoothing techniques to understand the underlying trend better by reducing noise and emphasizing longer-term trends."
      ],
      "metadata": {
        "id": "y5UywWx6FcaB"
      }
    },
    {
      "cell_type": "code",
      "source": [
        "import pandas as pd\n",
        "\n",
        "def process_clickstream_data(file_path, year_col='year', month_col='month', day_col='day', order_col='order'):\n",
        "    \"\"\"\n",
        "    Load clickstream data, aggregate by date, and return a DataFrame with daily orders.\n",
        "    \"\"\"\n",
        "    try:\n",
        "        # Load the CSV file with proper delimiter\n",
        "        df = pd.read_csv(file_path, sep=';')\n",
        "\n",
        "        # Print column names for debugging\n",
        "        print(\"Columns in the DataFrame:\", df.columns.tolist())\n",
        "\n",
        "        # Strip whitespace from column names\n",
        "        df.columns = df.columns.str.strip()\n",
        "\n",
        "        # Check if required columns exist\n",
        "        missing_cols = [col for col in [year_col, month_col, day_col] if col not in df.columns]\n",
        "        if missing_cols:\n",
        "            raise KeyError(f\"Missing columns in DataFrame: {missing_cols}\")\n",
        "\n",
        "        # Create a date column from year, month, and day\n",
        "        df['date'] = pd.to_datetime(df[[year_col, month_col, day_col]])\n",
        "\n",
        "        # Aggregate by date\n",
        "        daily_data = df.groupby('date').agg({order_col: 'count'}).reset_index()\n",
        "        daily_data.columns = ['date', 'daily_orders']\n",
        "\n",
        "        return daily_data\n",
        "\n",
        "    except FileNotFoundError as e:\n",
        "        print(\"File not found:\", e)\n",
        "    except KeyError as e:\n",
        "        print(\"KeyError:\", e)\n",
        "    except Exception as e:\n",
        "        print(\"An unexpected error occurred:\", e)\n",
        "\n",
        "# Call the function and print results\n",
        "daily_data = process_clickstream_data('./e-shop clothing 2008.csv')\n",
        "if daily_data is not None:\n",
        "    print(daily_data.head())"
      ],
      "metadata": {
        "colab": {
          "base_uri": "https://localhost:8080/"
        },
        "id": "J5rUDha2FiBV",
        "outputId": "588f3d96-eafd-49b0-8566-b83a0c1ffb43"
      },
      "execution_count": 6,
      "outputs": [
        {
          "output_type": "stream",
          "name": "stdout",
          "text": [
            "Columns in the DataFrame: ['year', 'month', 'day', 'order', 'country', 'session ID', 'page 1 (main category)', 'page 2 (clothing model)', 'colour', 'location', 'model photography', 'price', 'price 2', 'page']\n",
            "        date  daily_orders\n",
            "0 2008-04-01          3181\n",
            "1 2008-04-02          3456\n",
            "2 2008-04-03          1854\n",
            "3 2008-04-04          1801\n",
            "4 2008-04-05          1504\n"
          ]
        }
      ]
    },
    {
      "cell_type": "markdown",
      "source": [
        "# Apply Moving Averages: 7-day moving average  "
      ],
      "metadata": {
        "id": "90e436GKeCGc"
      }
    },
    {
      "cell_type": "code",
      "source": [
        "# Plotting for visualization\n",
        "import matplotlib.pyplot as plt\n",
        "\n",
        "# Calculate a 7-day moving average\n",
        "daily_data['SMA_7'] = daily_data['daily_orders'].rolling(window=7).mean()\n",
        "plt.figure(figsize=(14, 7))\n",
        "plt.plot(daily_data['date'], daily_data['daily_orders'], label='Daily Orders', color='blue')\n",
        "plt.plot(daily_data['date'], daily_data['SMA_7'], label='7-Day Moving Average', color='orange')\n",
        "plt.title('Daily Orders with 7-Day Moving Average')\n",
        "plt.xlabel('Date')\n",
        "plt.ylabel('Number of Orders')\n",
        "plt.legend()\n",
        "plt.show()\n"
      ],
      "metadata": {
        "colab": {
          "base_uri": "https://localhost:8080/",
          "height": 640
        },
        "id": "aB8VrXVYcxnb",
        "outputId": "13df9096-5679-40e9-f80f-83852a393507"
      },
      "execution_count": 7,
      "outputs": [
        {
          "output_type": "display_data",
          "data": {
            "text/plain": [
              "<Figure size 1400x700 with 1 Axes>"
            ],
            "image/png": "[encoded data removed]"
          },
          "metadata": {}
        }
      ]
    },
    {
      "cell_type": "code",
      "source": [
        "import pandas as pd\n",
        "import matplotlib.pyplot as plt\n",
        "from statsmodels.tsa.holtwinters import SimpleExpSmoothing\n",
        "import numpy as np\n",
        "from sklearn.linear_model import LinearRegression\n",
        "\n",
        "def calculate_slope(data, start_date, end_date):\n",
        "    \"\"\"\n",
        "    Calculate slope of the SES line for a specific date range.\n",
        "\n",
        "    Parameters:\n",
        "    - data: DataFrame containing daily orders with SES\n",
        "    - start_date: str, start date in 'YYYY-MM-DD' format\n",
        "    - end_date: str, end date in 'YYYY-MM-DD' format\n",
        "\n",
        "    Returns:\n",
        "    - slope: float, slope of the regression line for the specified date range\n",
        "    \"\"\"\n",
        "    section = data[(data['date'] >= start_date) & (data['date'] <= end_date)]\n",
        "\n",
        "    # Check if the section is empty\n",
        "    if section.empty:\n",
        "        print(f\"No data available for the date range: {start_date} to {end_date}\")\n",
        "        return None  # Or return 0 or some other value to indicate no slope can be calculated\n",
        "\n",
        "    X = np.array(range(len(section))).reshape(-1, 1)  # X as time steps\n",
        "    y = section['SES'].values\n",
        "\n",
        "    model = LinearRegression()\n",
        "    model.fit(X, y)\n",
        "    return model.coef_[0]  # Return the slope\n",
        "\n",
        "# Sample data: Assuming 'daily_data' is already created and contains the SES column.\n",
        "\n",
        "# Apply Simple Exponential Smoothing\n",
        "model = SimpleExpSmoothing(daily_data['daily_orders'])\n",
        "model_fit = model.fit(smoothing_level=0.2, optimized=False)\n",
        "daily_data['SES'] = model_fit.fittedvalues\n",
        "\n",
        "# Plotting with improved format\n",
        "plt.figure(figsize=(14, 7))\n",
        "plt.plot(daily_data['date'], daily_data['daily_orders'], label='Daily Orders', color='skyblue', linewidth=2, linestyle='-')\n",
        "plt.plot(daily_data['date'], daily_data['SES'], label='Simple Exponential Smoothing', color='salmon', linewidth=2, linestyle='--')\n",
        "plt.title('Daily Orders with Simple Exponential Smoothing', fontsize=16)\n",
        "plt.xlabel('Date', fontsize=14)\n",
        "plt.ylabel('Number of Orders', fontsize=14)\n",
        "plt.xticks(rotation=45)\n",
        "plt.grid(True, linestyle='--', alpha=0.7)\n",
        "plt.legend(fontsize=12)\n",
        "plt.tight_layout()\n",
        "plt.show()\n",
        "\n",
        "# Analyze slopes in different sections\n",
        "sections = [('2024-01-01', '2024-01-15'), ('2024-01-16', '2024-01-31')]  # Modify date ranges as needed\n",
        "slopes = {}\n",
        "\n",
        "for start, end in sections:\n",
        "    slope = calculate_slope(daily_data, start, end)\n",
        "    if slope is not None:  # Only add slope if it's valid\n",
        "        slopes[f\"{start} to {end}\"] = slope\n",
        "\n",
        "# Print slope results for each section\n",
        "for period, slope in slopes.items():\n",
        "    print(f\"Slope from {period}: {slope}\")"
      ],
      "metadata": {
        "colab": {
          "base_uri": "https://localhost:8080/",
          "height": 684
        },
        "id": "ScA4KZoadj0k",
        "outputId": "ee7ea7e4-63aa-464f-b7cf-7a74fd23872b"
      },
      "execution_count": 8,
      "outputs": [
        {
          "output_type": "display_data",
          "data": {
            "text/plain": [
              "<Figure size 1400x700 with 1 Axes>"
            ],
            "image/png": "[encoded data removed]"
          },
          "metadata": {}
        },
        {
          "output_type": "stream",
          "name": "stdout",
          "text": [
            "No data available for the date range: 2024-01-01 to 2024-01-15\n",
            "No data available for the date range: 2024-01-16 to 2024-01-31\n"
          ]
        }
      ]
    },
    {
      "cell_type": "markdown",
      "source": [
        "7. Feature Engineering for Predictive Modeling\n",
        "If you plan to build a predictive model, consider creating additional features, such as:\n",
        "\n",
        "- Lag features (previous values)\n",
        "Rolling statistics (e.g., rolling mean or rolling standard deviation)\n",
        "Time-based features (day of week, month, seasonality indicators)"
      ],
      "metadata": {
        "id": "l5pddeNfFibb"
      }
    },
    {
      "cell_type": "markdown",
      "source": [
        "# Feature Engineering"
      ],
      "metadata": {
        "id": "fPz4H5eUecNo"
      }
    },
    {
      "cell_type": "code",
      "source": [
        "import pandas as pd\n",
        "\n",
        "# Sample data creation (replace this with your actual data)\n",
        "date_rng = pd.date_range(start='2024-01-01', end='2024-01-31', freq='D')\n",
        "daily_orders = [100 + (i % 10) for i in range(len(date_rng))]  # Sample orders\n",
        "daily_data = pd.DataFrame(date_rng, columns=['date'])\n",
        "daily_data['daily_orders'] = daily_orders\n",
        "daily_data.set_index('date', inplace=True)\n",
        "\n",
        "# 1. Lag Features\n",
        "for lag in range(1, 4):  # Create lag features for 1, 2, and 3 days\n",
        "    daily_data[f'lag_{lag}'] = daily_data['daily_orders'].shift(lag)\n",
        "\n",
        "# 2. Rolling Statistics\n",
        "window_size = 7  # Example: 7-day rolling window\n",
        "daily_data['rolling_mean'] = daily_data['daily_orders'].rolling(window=window_size).mean()\n",
        "daily_data['rolling_std'] = daily_data['daily_orders'].rolling(window=window_size).std()\n",
        "\n",
        "# 3. Time-Based Features\n",
        "daily_data['day_of_week'] = daily_data.index.dayofweek  # Monday=0, Sunday=6\n",
        "daily_data['month'] = daily_data.index.month\n",
        "daily_data['day'] = daily_data.index.day\n",
        "daily_data['is_weekend'] = daily_data['day_of_week'].isin([5, 6]).astype(int)  # 1 if weekend, 0 if not\n",
        "\n",
        "# Display the updated DataFrame\n",
        "print(daily_data.head(10))"
      ],
      "metadata": {
        "colab": {
          "base_uri": "https://localhost:8080/"
        },
        "id": "lrH5D4vsesht",
        "outputId": "e11f9219-e6c5-487f-9668-bff6f37108f8"
      },
      "execution_count": 9,
      "outputs": [
        {
          "output_type": "stream",
          "name": "stdout",
          "text": [
            "            daily_orders  lag_1  lag_2  lag_3  rolling_mean  rolling_std  day_of_week  month  day  is_weekend\n",
            "date                                                                                                         \n",
            "2024-01-01           100    NaN    NaN    NaN           NaN          NaN            0      1    1           0\n",
            "2024-01-02           101 100.00    NaN    NaN           NaN          NaN            1      1    2           0\n",
            "2024-01-03           102 101.00 100.00    NaN           NaN          NaN            2      1    3           0\n",
            "2024-01-04           103 102.00 101.00 100.00           NaN          NaN            3      1    4           0\n",
            "2024-01-05           104 103.00 102.00 101.00           NaN          NaN            4      1    5           0\n",
            "2024-01-06           105 104.00 103.00 102.00           NaN          NaN            5      1    6           1\n",
            "2024-01-07           106 105.00 104.00 103.00        103.00         2.16            6      1    7           1\n",
            "2024-01-08           107 106.00 105.00 104.00        104.00         2.16            0      1    8           0\n",
            "2024-01-09           108 107.00 106.00 105.00        105.00         2.16            1      1    9           0\n",
            "2024-01-10           109 108.00 107.00 106.00        106.00         2.16            2      1   10           0\n"
          ]
        }
      ]
    },
    {
      "cell_type": "markdown",
      "source": [
        "### Interpreting the DataFrame: Time Series Analysis\n",
        "\n",
        "The DataFrame provides a structured view of your time series data with features that enable deeper analysis and modeling. Below is a detailed explanation of each column and its significance:\n",
        "\n",
        "---\n",
        "\n",
        "### **DataFrame Columns and Their Interpretations**\n",
        "\n",
        "| **Column**         | **Description**                                                                                           | **Example**                                                                                     |\n",
        "|---------------------|-----------------------------------------------------------------------------------------------------------|-------------------------------------------------------------------------------------------------|\n",
        "| **daily_orders**    | The central metric showing the number of orders for each day.                                             | On **2024-01-01**, there were **100** orders, and on **2024-01-10**, there were **109** orders. |\n",
        "| **lag_1, lag_2, lag_3** | Previous day's orders (1, 2, or 3 days ago), useful for identifying short-term dependencies.            | On **2024-01-02**, `lag_1` is **100** (orders on 2024-01-01), while `lag_2` and `lag_3` are NaN. |\n",
        "| **rolling_mean**    | The average number of orders over a rolling window (e.g., last 7 days).                                   | On **2024-01-07**, the rolling mean is **103.00**, indicating an average of 103 orders/day from 2024-01-01 to 2024-01-07. |\n",
        "| **rolling_std**     | The standard deviation of orders over the same rolling window, reflecting variability in demand.           | On **2024-01-07**, a standard deviation of **2.16** shows low variability around the rolling mean of 103. |\n",
        "| **day_of_week**     | The day of the week (0 = Monday, 6 = Sunday), useful for identifying weekday vs weekend trends.            | On **2024-01-01**, the value is `0` (Monday), and on **2024-01-06**, it is `5` (Saturday).       |\n",
        "| **month**           | The month of the year, useful for identifying seasonal patterns or monthly trends.                        | All rows in this example are from January (`1`).                                                |\n",
        "| **day**             | The day of the month, which can help in filtering or sorting data within a specific month.                | For instance, the value for January 10th is `10`.                                               |\n",
        "| **is_weekend**      | A binary indicator showing whether a day is a weekend (`1` for Saturday/Sunday, `0` otherwise).            | On **2024-01-06**, the value is `1` (Saturday), while on **2024-01-05**, it is `0` (Friday).     |\n",
        "\n",
        "---\n",
        "\n",
        "### **Key Insights**\n",
        "\n",
        "#### 1. **Daily Orders**\n",
        "   - This column represents the primary metric for analysis.\n",
        "   - Example: From January 1st to January 10th, `daily_orders` increased from 100 to 109, showing an upward trend.\n",
        "\n",
        "#### 2. **Lag Features**\n",
        "   - Lagged values provide historical context for modeling trends or seasonality.\n",
        "   - Example: If `daily_orders` tends to increase following high values in `lag_1`, this may indicate momentum or short-term dependencies.\n",
        "\n",
        "#### 3. **Rolling Mean and Standard Deviation**\n",
        "   - These features smooth out daily fluctuations and highlight broader trends or variability.\n",
        "   - Example: A rolling mean of 103 on January 7th suggests stable demand over the previous week, while a low rolling standard deviation (e.g., 2.16) indicates consistent order levels.\n",
        "\n",
        "#### 4. **Day of Week and Weekend Effects**\n",
        "   - Analyzing `day_of_week` and `is_weekend` can reveal behavioral patterns.\n",
        "   - Example: If weekends consistently show higher `daily_orders`, this could indicate different customer behavior compared to weekdays.\n",
        "\n",
        "#### 5. **Seasonality**\n",
        "   - Columns like `month` and `day` help identify periodic trends.\n",
        "   - Example: If demand peaks in December or drops in January, these columns can help quantify seasonal effects.\n",
        "\n",
        "---\n",
        "\n",
        "### **How to Use This DataFrame**\n",
        "\n",
        "This structured DataFrame serves as an excellent foundation for various analyses:\n",
        "\n",
        "#### *Trend Analysis*\n",
        "   - Use `daily_orders`, `rolling_mean`, and `rolling_std` to identify long-term growth or fluctuations.\n",
        "\n",
        "#### *Seasonal Patterns*\n",
        "   - Analyze how order volumes vary by `month`, `day_of_week`, or `is_weekend`.\n",
        "\n",
        "#### *Predictive Modeling*\n",
        "   - Incorporate lag features (`lag_1`, etc.) into time series forecasting models like ARIMA or machine learning models.\n",
        "\n",
        "#### *Behavioral Insights*\n",
        "   - Compare weekdays vs weekends using `is_weekend`.\n",
        "   - Study variability in demand using rolling statistics.\n",
        "\n",
        "By combining these features with visualization techniques or predictive models, you can uncover valuable insights into your time series data and make data-driven decisions effectively!"
      ],
      "metadata": {
        "id": "OCX8iMWPe6yu"
      }
    },
    {
      "cell_type": "code",
      "source": [
        "%%capture\n",
        "!pip install pytorch_forecasting"
      ],
      "metadata": {
        "id": "PPiARIxY2xEZ"
      },
      "execution_count": 10,
      "outputs": []
    },
    {
      "cell_type": "code",
      "source": [
        "import pandas as pd\n",
        "import numpy as np\n",
        "\n",
        "# Create a sample DataFrame\n",
        "date_range = pd.date_range(start=\"2024-01-01\", periods=30, freq=\"D\")\n",
        "df = pd.DataFrame({\n",
        "    \"date\": date_range,\n",
        "    \"daily_orders\": np.random.randint(50, 150, size=len(date_range)),\n",
        "    \"country\": [\"Country_A\"] * len(date_range),\n",
        "    \"day_of_week\": date_range.dayofweek,\n",
        "    \"is_weekend\": (date_range.dayofweek >= 5).astype(int),\n",
        "    \"rolling_mean\": np.nan,\n",
        "    \"rolling_std\": np.nan,\n",
        "})\n",
        "\n",
        "# Calculate rolling statistics\n",
        "df[\"rolling_mean\"] = df[\"daily_orders\"].rolling(window=7, min_periods=1).mean()\n",
        "df[\"rolling_std\"] = df[\"daily_orders\"].rolling(window=7, min_periods=1).std()\n",
        "\n",
        "print(df.head())"
      ],
      "metadata": {
        "colab": {
          "base_uri": "https://localhost:8080/"
        },
        "id": "wK2XkhbJ3Na9",
        "outputId": "817e29c2-bd8a-45ac-a173-bef89609b852"
      },
      "execution_count": 11,
      "outputs": [
        {
          "output_type": "stream",
          "name": "stdout",
          "text": [
            "        date  daily_orders    country  day_of_week  is_weekend  rolling_mean  rolling_std\n",
            "0 2024-01-01           138  Country_A            0           0        138.00          NaN\n",
            "1 2024-01-02           104  Country_A            1           0        121.00        24.04\n",
            "2 2024-01-03           138  Country_A            2           0        126.67        19.63\n",
            "3 2024-01-04            96  Country_A            3           0        119.00        22.18\n",
            "4 2024-01-05           137  Country_A            4           0        122.60        20.83\n"
          ]
        }
      ]
    },
    {
      "cell_type": "code",
      "source": [
        "\n",
        "# Ensure time_idx is sequential within each group\n",
        "df[\"time_idx\"] = df.groupby(\"country\")[\"date\"].rank().astype(int) - 1\n",
        "df[\"day_of_week\"] = df[\"day_of_week\"].astype(\"category\")\n",
        "\n",
        "# Example DataFrame\n",
        "date_range = pd.date_range(start=\"2024-01-01\", periods=30, freq=\"D\")\n",
        "df = pd.DataFrame({\n",
        "    \"date\": date_range,\n",
        "    \"daily_orders\": np.random.randint(50, 150, size=len(date_range)),\n",
        "    \"country\": [\"Country_A\"] * len(date_range),\n",
        "    \"day_of_week\": date_range.dayofweek,\n",
        "    \"is_weekend\": (date_range.dayofweek >= 5).astype(int),\n",
        "})\n",
        "\n",
        "# Convert 'date' to integer time index and drop it\n",
        "df[\"time_idx\"] = (df[\"date\"] - df[\"date\"].min()).dt.days\n",
        "df = df.drop(columns=[\"date\"])"
      ],
      "metadata": {
        "id": "CPHgwzU-4O8m"
      },
      "execution_count": 12,
      "outputs": []
    },
    {
      "cell_type": "code",
      "source": [
        "# Convert 'country' and 'day_of_week' to strings\n",
        "df[\"country\"] = df[\"country\"].astype(str)\n",
        "df[\"day_of_week\"] = df[\"day_of_week\"].astype(str)\n",
        "# Convert 'is_weekend' to string type\n",
        "df[\"is_weekend\"] = df[\"is_weekend\"].astype(str)"
      ],
      "metadata": {
        "id": "XH0dZmNw-XZx"
      },
      "execution_count": 13,
      "outputs": []
    },
    {
      "cell_type": "code",
      "source": [
        "# Check updated data types\n",
        "print(df.dtypes)"
      ],
      "metadata": {
        "colab": {
          "base_uri": "https://localhost:8080/"
        },
        "id": "W2ibs69o-yot",
        "outputId": "e093bbe0-a4c2-43bd-dd31-8adbd27c0159"
      },
      "execution_count": 14,
      "outputs": [
        {
          "output_type": "stream",
          "name": "stdout",
          "text": [
            "daily_orders     int64\n",
            "country         object\n",
            "day_of_week     object\n",
            "is_weekend      object\n",
            "time_idx         int64\n",
            "dtype: object\n"
          ]
        }
      ]
    },
    {
      "cell_type": "code",
      "source": [
        "# Ensure 'daily_orders' is numeric (float or int)\n",
        "df['daily_orders'] = df['daily_orders'].astype(float)"
      ],
      "metadata": {
        "id": "OUUVCIxE_lBv"
      },
      "execution_count": 15,
      "outputs": []
    },
    {
      "cell_type": "code",
      "source": [
        "from pytorch_forecasting import TimeSeriesDataSet\n",
        "\n",
        "# Define the dataset\n",
        "training = TimeSeriesDataSet(\n",
        "    df,\n",
        "    time_idx=\"time_idx\",  # Use the integer-based time index\n",
        "    target=\"daily_orders\",  # Target variable to predict\n",
        "    group_ids=[\"country\"],  # Grouping variable (e.g., country)\n",
        "    min_encoder_length=12,  # Minimum historical steps for prediction\n",
        "    max_encoder_length=24,  # Maximum historical steps for prediction\n",
        "    min_prediction_length=6,  # Minimum future steps to predict\n",
        "    max_prediction_length=12,  # Maximum future steps to predict\n",
        "    static_categoricals=[\"country\"],  # Static categorical variables (must be strings)\n",
        "    time_varying_known_categoricals=[\"day_of_week\", \"is_weekend\"],  # Known time-varying categoricals (must be strings)\n",
        "    time_varying_unknown_reals=[\"daily_orders\"],  # Unknown time-varying real-valued variables\n",
        ")\n"
      ],
      "metadata": {
        "id": "CFRmBXQGG3l0"
      },
      "execution_count": 16,
      "outputs": []
    },
    {
      "cell_type": "code",
      "source": [
        "# Create data loaders\n",
        "train_dataloader = training.to_dataloader(train=True, batch_size=64, num_workers=4)\n",
        "val_dataloader = training.to_dataloader(train=False, batch_size=64, num_workers=4)"
      ],
      "metadata": {
        "colab": {
          "base_uri": "https://localhost:8080/"
        },
        "id": "QD2YGVOy_vV2",
        "outputId": "246b8885-fc03-4313-9939-9292a1220e66"
      },
      "execution_count": 17,
      "outputs": [
        {
          "output_type": "stream",
          "name": "stderr",
          "text": [
            "/usr/local/lib/python3.11/dist-packages/torch/utils/data/dataloader.py:617: UserWarning: This DataLoader will create 4 worker processes in total. Our suggested max number of worker in current system is 2, which is smaller than what this DataLoader is going to create. Please be aware that excessive worker creation might get DataLoader running slow or even freeze, lower the worker number to avoid potential slowness/freeze if necessary.\n",
            "  warnings.warn(\n"
          ]
        }
      ]
    },
    {
      "cell_type": "code",
      "source": [
        "%%capture\n",
        "!pip install pytorch_forecasting\n",
        "!pip install pytorch-forecasting pytorch-lightning torch --upgrade"
      ],
      "metadata": {
        "id": "YoKGBXulQ9tS"
      },
      "execution_count": 18,
      "outputs": []
    },
    {
      "cell_type": "code",
      "source": [
        "import pytorch_forecasting\n",
        "import pytorch_lightning as pl\n",
        "import torch\n",
        "\n",
        "print(\"PyTorch Forecasting:\", pytorch_forecasting.__version__)\n",
        "print(\"PyTorch Lightning:\", pl.__version__)\n",
        "print(\"PyTorch:\", torch.__version__)"
      ],
      "metadata": {
        "colab": {
          "base_uri": "https://localhost:8080/"
        },
        "id": "Din2DGGBOyd7",
        "outputId": "4e10e69d-160f-4ca1-a2c6-020814b8ab6d"
      },
      "execution_count": 19,
      "outputs": [
        {
          "output_type": "stream",
          "name": "stdout",
          "text": [
            "PyTorch Forecasting: 1.2.0\n",
            "PyTorch Lightning: 2.5.0.post0\n",
            "PyTorch: 2.5.1+cu121\n"
          ]
        }
      ]
    },
    {
      "cell_type": "markdown",
      "source": [
        "\"\"\"\n",
        "Example: Temporal Fusion Transformer (TFT)\n",
        "If we focus on the Temporal Fusion Transformer (TFT), it can handle multiple time series inputs, incorporates both historical and static covariates, and achieves excellent forecasting capabilities. Below is a brief overview of how you might set up a TFT for your data:\n",
        "\"\"\""
      ],
      "metadata": {
        "id": "ip3sfGF-T6hd"
      }
    },
    {
      "cell_type": "code",
      "source": [
        "%%capture\n",
        "from lightning.pytorch import Trainer\n",
        "from pytorch_forecasting import TemporalFusionTransformer\n",
        "\n",
        "# Define the Temporal Fusion Transformer model\n",
        "model = TemporalFusionTransformer.from_dataset(\n",
        "    training,\n",
        "    learning_rate=0.03,\n",
        "    hidden_size=16,  # Number of hidden units in LSTM layers\n",
        "    attention_head_size=4,  # Number of attention heads\n",
        "    dropout=0.1,\n",
        "    hidden_continuous_size=8,  # Hidden size for continuous variables\n",
        ")\n",
        "\n",
        "# Create data loaders\n",
        "train_dataloader = training.to_dataloader(train=True, batch_size=64, num_workers=4)\n",
        "val_dataloader = training.to_dataloader(train=False, batch_size=64, num_workers=4)\n",
        "\n",
        "# Train the model using PyTorch Lightning Trainer on CPU\n",
        "trainer = Trainer(max_epochs=30, accelerator=\"cpu\")  # Use CPU for training\n",
        "trainer.fit(model, train_dataloaders=train_dataloader, val_dataloaders=val_dataloader)"
      ],
      "metadata": {
        "colab": {
          "base_uri": "https://localhost:8080/",
          "height": 1000
        },
        "id": "Am27kgkf2-U-",
        "outputId": "9f648857-e3aa-40b7-cc2a-ef729f2f5bb3"
      },
      "execution_count": 20,
      "outputs": [
        {
          "output_type": "stream",
          "name": "stderr",
          "text": [
            "INFO: GPU available: False, used: False\n",
            "INFO:lightning.pytorch.utilities.rank_zero:GPU available: False, used: False\n",
            "INFO: TPU available: False, using: 0 TPU cores\n",
            "INFO:lightning.pytorch.utilities.rank_zero:TPU available: False, using: 0 TPU cores\n",
            "INFO: HPU available: False, using: 0 HPUs\n",
            "INFO:lightning.pytorch.utilities.rank_zero:HPU available: False, using: 0 HPUs\n",
            "INFO: \n",
            "   | Name                               | Type                            | Params | Mode \n",
            "------------------------------------------------------------------------------------------------\n",
            "0  | loss                               | QuantileLoss                    | 0      | train\n",
            "1  | logging_metrics                    | ModuleList                      | 0      | train\n",
            "2  | input_embeddings                   | MultiEmbedding                  | 38     | train\n",
            "3  | prescalers                         | ModuleDict                      | 32     | train\n",
            "4  | static_variable_selection          | VariableSelectionNetwork        | 624    | train\n",
            "5  | encoder_variable_selection         | VariableSelectionNetwork        | 768    | train\n",
            "6  | decoder_variable_selection         | VariableSelectionNetwork        | 170    | train\n",
            "7  | static_context_variable_selection  | GatedResidualNetwork            | 1.1 K  | train\n",
            "8  | static_context_initial_hidden_lstm | GatedResidualNetwork            | 1.1 K  | train\n",
            "9  | static_context_initial_cell_lstm   | GatedResidualNetwork            | 1.1 K  | train\n",
            "10 | static_context_enrichment          | GatedResidualNetwork            | 1.1 K  | train\n",
            "11 | lstm_encoder                       | LSTM                            | 2.2 K  | train\n",
            "12 | lstm_decoder                       | LSTM                            | 2.2 K  | train\n",
            "13 | post_lstm_gate_encoder             | GatedLinearUnit                 | 544    | train\n",
            "14 | post_lstm_add_norm_encoder         | AddNorm                         | 32     | train\n",
            "15 | static_enrichment                  | GatedResidualNetwork            | 1.4 K  | train\n",
            "16 | multihead_attn                     | InterpretableMultiHeadAttention | 676    | train\n",
            "17 | post_attn_gate_norm                | GateAddNorm                     | 576    | train\n",
            "18 | pos_wise_ff                        | GatedResidualNetwork            | 1.1 K  | train\n",
            "19 | pre_output_gate_norm               | GateAddNorm                     | 576    | train\n",
            "20 | output_layer                       | Linear                          | 119    | train\n",
            "------------------------------------------------------------------------------------------------\n",
            "15.5 K    Trainable params\n",
            "0         Non-trainable params\n",
            "15.5 K    Total params\n",
            "0.062     Total estimated model params size (MB)\n",
            "214       Modules in train mode\n",
            "0         Modules in eval mode\n",
            "INFO:lightning.pytorch.callbacks.model_summary:\n",
            "   | Name                               | Type                            | Params | Mode \n",
            "------------------------------------------------------------------------------------------------\n",
            "0  | loss                               | QuantileLoss                    | 0      | train\n",
            "1  | logging_metrics                    | ModuleList                      | 0      | train\n",
            "2  | input_embeddings                   | MultiEmbedding                  | 38     | train\n",
            "3  | prescalers                         | ModuleDict                      | 32     | train\n",
            "4  | static_variable_selection          | VariableSelectionNetwork        | 624    | train\n",
            "5  | encoder_variable_selection         | VariableSelectionNetwork        | 768    | train\n",
            "6  | decoder_variable_selection         | VariableSelectionNetwork        | 170    | train\n",
            "7  | static_context_variable_selection  | GatedResidualNetwork            | 1.1 K  | train\n",
            "8  | static_context_initial_hidden_lstm | GatedResidualNetwork            | 1.1 K  | train\n",
            "9  | static_context_initial_cell_lstm   | GatedResidualNetwork            | 1.1 K  | train\n",
            "10 | static_context_enrichment          | GatedResidualNetwork            | 1.1 K  | train\n",
            "11 | lstm_encoder                       | LSTM                            | 2.2 K  | train\n",
            "12 | lstm_decoder                       | LSTM                            | 2.2 K  | train\n",
            "13 | post_lstm_gate_encoder             | GatedLinearUnit                 | 544    | train\n",
            "14 | post_lstm_add_norm_encoder         | AddNorm                         | 32     | train\n",
            "15 | static_enrichment                  | GatedResidualNetwork            | 1.4 K  | train\n",
            "16 | multihead_attn                     | InterpretableMultiHeadAttention | 676    | train\n",
            "17 | post_attn_gate_norm                | GateAddNorm                     | 576    | train\n",
            "18 | pos_wise_ff                        | GatedResidualNetwork            | 1.1 K  | train\n",
            "19 | pre_output_gate_norm               | GateAddNorm                     | 576    | train\n",
            "20 | output_layer                       | Linear                          | 119    | train\n",
            "------------------------------------------------------------------------------------------------\n",
            "15.5 K    Trainable params\n",
            "0         Non-trainable params\n",
            "15.5 K    Total params\n",
            "0.062     Total estimated model params size (MB)\n",
            "214       Modules in train mode\n",
            "0         Modules in eval mode\n",
            "INFO: `Trainer.fit` stopped: `max_epochs=30` reached.\n",
            "INFO:lightning.pytorch.utilities.rank_zero:`Trainer.fit` stopped: `max_epochs=30` reached.\n"
          ]
        }
      ]
    },
    {
      "cell_type": "code",
      "source": [
        "# Evaluate the model on the validation data\n",
        "validation_metrics = trainer.validate(model, dataloaders=val_dataloader)\n",
        "print(\"Validation Metrics:\", validation_metrics)"
      ],
      "metadata": {
        "colab": {
          "base_uri": "https://localhost:8080/",
          "height": 237,
          "referenced_widgets": [
            "481fea97863d4f8ba49b065c09f7c1fd",
            "536cc8a0cc60481096b9315f11b8c6bc",
            "2113f58edbfc45de85e88987a02918e8",
            "9e7a26b42c224cbeb83392b39f217040",
            "fe02fcb7dc674f59bd0201dd80e33ac7",
            "2df7613aef214ea6878eb34c89ac6217",
            "dab4bd0cea8047018f60c9af7d9f9405",
            "9bc0c44f75b74050badb3e65c796e24c",
            "604236bc5cb848e7a849f64983ac303c",
            "a54c2e71887c4ebe970420f9f49fd22e",
            "58fb6e96fea84d73b3d3060ad44b4e5d"
          ]
        },
        "id": "C0TGA8HlPS7d",
        "outputId": "731060a9-2260-4374-8052-e3112016b2a4"
      },
      "execution_count": 21,
      "outputs": [
        {
          "output_type": "display_data",
          "data": {
            "text/plain": [
              "Validation: |          | 0/? [00:00<?, ?it/s]"
            ],
            "application/vnd.jupyter.widget-view+json": {
              "version_major": 2,
              "version_minor": 0,
              "model_id": "481fea97863d4f8ba49b065c09f7c1fd"
            }
          },
          "metadata": {}
        },
        {
          "output_type": "display_data",
          "data": {
            "text/plain": [
              "┏━━━━━━━━━━━━━━━━━━━━━━━━━━━┳━━━━━━━━━━━━━━━━━━━━━━━━━━━┓\n",
              "┃\u001b[1m \u001b[0m\u001b[1m     Validate metric     \u001b[0m\u001b[1m \u001b[0m┃\u001b[1m \u001b[0m\u001b[1m      DataLoader 0       \u001b[0m\u001b[1m \u001b[0m┃\n",
              "┡━━━━━━━━━━━━━━━━━━━━━━━━━━━╇━━━━━━━━━━━━━━━━━━━━━━━━━━━┩\n",
              "│\u001b[36m \u001b[0m\u001b[36m         val_MAE         \u001b[0m\u001b[36m \u001b[0m│\u001b[35m \u001b[0m\u001b[35m   24.042428970336914    \u001b[0m\u001b[35m \u001b[0m│\n",
              "│\u001b[36m \u001b[0m\u001b[36m        val_MAPE         \u001b[0m\u001b[36m \u001b[0m│\u001b[35m \u001b[0m\u001b[35m      1289284224.0       \u001b[0m\u001b[35m \u001b[0m│\n",
              "│\u001b[36m \u001b[0m\u001b[36m        val_RMSE         \u001b[0m\u001b[36m \u001b[0m│\u001b[35m \u001b[0m\u001b[35m    38.06439208984375    \u001b[0m\u001b[35m \u001b[0m│\n",
              "│\u001b[36m \u001b[0m\u001b[36m        val_SMAPE        \u001b[0m\u001b[36m \u001b[0m│\u001b[35m \u001b[0m\u001b[35m   0.4104941487312317    \u001b[0m\u001b[35m \u001b[0m│\n",
              "│\u001b[36m \u001b[0m\u001b[36m        val_loss         \u001b[0m\u001b[36m \u001b[0m│\u001b[35m \u001b[0m\u001b[35m    6.081942081451416    \u001b[0m\u001b[35m \u001b[0m│\n",
              "└───────────────────────────┴───────────────────────────┘\n"
            ],
            "text/html": [
              "<pre style=\"white-space:pre;overflow-x:auto;line-height:normal;font-family:Menlo,'DejaVu Sans Mono',consolas,'Courier New',monospace\">┏━━━━━━━━━━━━━━━━━━━━━━━━━━━┳━━━━━━━━━━━━━━━━━━━━━━━━━━━┓\n",
              "┃<span style=\"font-weight: bold\">      Validate metric      </span>┃<span style=\"font-weight: bold\">       DataLoader 0        </span>┃\n",
              "┡━━━━━━━━━━━━━━━━━━━━━━━━━━━╇━━━━━━━━━━━━━━━━━━━━━━━━━━━┩\n",
              "│<span style=\"color: #008080; text-decoration-color: #008080\">          val_MAE          </span>│<span style=\"color: #800080; text-decoration-color: #800080\">    24.042428970336914     </span>│\n",
              "│<span style=\"color: #008080; text-decoration-color: #008080\">         val_MAPE          </span>│<span style=\"color: #800080; text-decoration-color: #800080\">       1289284224.0        </span>│\n",
              "│<span style=\"color: #008080; text-decoration-color: #008080\">         val_RMSE          </span>│<span style=\"color: #800080; text-decoration-color: #800080\">     38.06439208984375     </span>│\n",
              "│<span style=\"color: #008080; text-decoration-color: #008080\">         val_SMAPE         </span>│<span style=\"color: #800080; text-decoration-color: #800080\">    0.4104941487312317     </span>│\n",
              "│<span style=\"color: #008080; text-decoration-color: #008080\">         val_loss          </span>│<span style=\"color: #800080; text-decoration-color: #800080\">     6.081942081451416     </span>│\n",
              "└───────────────────────────┴───────────────────────────┘\n",
              "</pre>\n"
            ]
          },
          "metadata": {}
        },
        {
          "output_type": "stream",
          "name": "stdout",
          "text": [
            "Validation Metrics: [{'val_loss': 6.081942081451416, 'val_SMAPE': 0.4104941487312317, 'val_MAE': 24.042428970336914, 'val_RMSE': 38.06439208984375, 'val_MAPE': 1289284224.0}]\n"
          ]
        }
      ]
    },
    {
      "cell_type": "code",
      "source": [
        "# Make predictions on the validation dataset\n",
        "predictions = model.predict(val_dataloader)\n",
        "print(\"Predictions:\", predictions)"
      ],
      "metadata": {
        "colab": {
          "base_uri": "https://localhost:8080/"
        },
        "id": "2Tjr6JrnRgk0",
        "outputId": "72794e62-129c-4b1f-b9b8-05ad4b890407"
      },
      "execution_count": 22,
      "outputs": [
        {
          "output_type": "stream",
          "name": "stderr",
          "text": [
            "INFO: GPU available: False, used: False\n",
            "INFO:lightning.pytorch.utilities.rank_zero:GPU available: False, used: False\n",
            "INFO: TPU available: False, using: 0 TPU cores\n",
            "INFO:lightning.pytorch.utilities.rank_zero:TPU available: False, using: 0 TPU cores\n",
            "INFO: HPU available: False, using: 0 HPUs\n",
            "INFO:lightning.pytorch.utilities.rank_zero:HPU available: False, using: 0 HPUs\n"
          ]
        },
        {
          "output_type": "stream",
          "name": "stdout",
          "text": [
            "Predictions: tensor([[119.2593,  67.9219,  77.4888, 104.4942,  84.7223, 112.2365,  48.8450,\n",
            "         119.6507,  69.3539,  77.3496, 104.8204,  84.6740],\n",
            "        [121.1193,  67.8088,  77.4563, 104.8769,  84.9189, 113.8047,  48.1553,\n",
            "         121.3842,  69.2328,  77.3574, 105.4067,  84.9146],\n",
            "        [119.0350,  65.7724,  75.2329, 102.1163,  82.6743, 111.5155,  46.1457,\n",
            "         119.3677,  67.1606,  75.1766, 102.8407,  82.7137],\n",
            "        [121.0042,  67.3496,  76.6281, 103.0722,  84.1458, 113.0629,  47.4942,\n",
            "         121.6293,  68.7281,  76.6203, 104.0153,  84.2361],\n",
            "        [122.1551,  67.8855,  77.9394, 101.3979,  85.5115, 113.6362,  47.6424,\n",
            "         123.4473,  69.2627,  77.7614, 101.5779,  85.4347],\n",
            "        [124.7402,  70.0642,  80.0598, 103.5118,  87.6879, 116.1011,  49.6625,\n",
            "         126.1336,  71.4291,  79.9203, 103.7844,  87.6528],\n",
            "        [126.8026,  72.0446,  82.1950, 105.9579,  89.9140, 117.4186,  51.3331,\n",
            "         128.2727,  73.4102,  82.0153, 106.1491,  89.8467],\n",
            "        [ 90.8689, 113.9337, 105.3352, 115.3997, 110.2280,  58.4033, 131.4321,\n",
            "          80.3209,  88.5784, 109.3902,  95.4728,      nan],\n",
            "        [ 99.3297,  94.3415,  98.1811, 100.5664,  54.0467, 123.6650,  74.6510,\n",
            "          81.9469, 102.1818,  88.8066,      nan,      nan],\n",
            "        [ 96.6321, 100.9325,  96.3637,  53.4367, 117.0220,  72.3411,  78.9337,\n",
            "          96.5956,  85.0194,      nan,      nan,      nan],\n",
            "        [101.2863,  98.5634,  55.3058, 120.2942,  74.7827,  81.2044,  98.9224,\n",
            "          87.4994,      nan,      nan,      nan,      nan],\n",
            "        [ 96.7264,  49.8538, 116.0348,  69.9454,  76.9680,  95.2604,  83.2855,\n",
            "              nan,      nan,      nan,      nan,      nan],\n",
            "        [ 50.0253, 117.1043,  70.2638,  77.5073,  95.6384,  83.7227,      nan,\n",
            "              nan,      nan,      nan,      nan,      nan],\n",
            "        [ 81.8060, 104.8777,  96.3037, 106.3477, 101.1650,  49.3163,      nan,\n",
            "              nan,      nan,      nan,      nan,      nan],\n",
            "        [ 81.8060, 104.8777,  96.3037, 106.3477, 101.1650,  49.3163, 122.3246,\n",
            "              nan,      nan,      nan,      nan,      nan],\n",
            "        [ 81.8060, 104.8777,  96.3037, 106.3477, 101.1650,  49.3163, 122.3246,\n",
            "          71.2378,      nan,      nan,      nan,      nan],\n",
            "        [ 81.8060, 104.8777,  96.3037, 106.3477, 101.1650,  49.3163, 122.3246,\n",
            "          71.2378,  79.5085,      nan,      nan,      nan],\n",
            "        [ 81.8060, 104.8777,  96.3037, 106.3477, 101.1650,  49.3163, 122.3246,\n",
            "          71.2378,  79.5085, 100.3171,      nan,      nan],\n",
            "        [ 81.8060, 104.8777,  96.3037, 106.3477, 101.1650,  49.3163, 122.3246,\n",
            "          71.2378,  79.5085, 100.3171,  86.4002,      nan],\n",
            "        [ 81.8060, 104.8777,  96.3037, 106.3477, 101.1650,  49.3163, 122.3246,\n",
            "          71.2378,  79.5085, 100.3171,  86.4002, 110.3316],\n",
            "        [ 96.7723,  91.9885,  95.9312,  98.0932,  50.7033, 120.5392,  71.5862,\n",
            "          79.1282,  99.8140,  86.0264, 110.2507,  51.9572],\n",
            "        [101.4599, 106.2811, 101.3777,  52.6213, 123.0654,  73.8900,  81.5405,\n",
            "         101.8052,  88.3165, 111.8848,  54.2362, 122.3486],\n",
            "        [101.4899,  99.4166,  48.5529, 121.2904,  70.9462,  78.7089, 103.8274,\n",
            "          85.8275, 111.8017,  50.7182, 120.3242,  70.9182],\n",
            "        [103.8582,  49.9247, 124.6497,  73.0600,  81.0726, 106.5107,  88.3059,\n",
            "         114.4737,  52.5142, 123.4472,  73.1418,  81.0383],\n",
            "        [ 48.9920, 122.9205,  71.6972,  79.8719, 104.7963,  86.8093, 112.4005,\n",
            "          51.2819, 121.4978,  71.7355,  79.5532, 106.3583]])\n"
          ]
        }
      ]
    },
    {
      "cell_type": "markdown",
      "source": [
        "# split the data"
      ],
      "metadata": {
        "id": "lqqeAe67Tl_g"
      }
    },
    {
      "cell_type": "code",
      "source": [
        "\"\"\"\n",
        "2. DeepAR\n",
        "DeepAR is an autoregressive recurrent neural network model that forecasts future values given historic values. It's particularly useful for probabilistic forecasting and can be scaled across multiple time series for better performance.\n",
        "\"\"\""
      ],
      "metadata": {
        "id": "yNk8rn3OAIlr"
      },
      "execution_count": null,
      "outputs": []
    },
    {
      "cell_type": "code",
      "source": [
        "%%capture\n",
        "from pytorch_forecasting import DeepAR\n",
        "from lightning.pytorch import Trainer\n",
        "\n",
        "# Define the DeepAR model from the dataset\n",
        "model = DeepAR.from_dataset(\n",
        "    training,\n",
        "    learning_rate=0.03,\n",
        "    hidden_size=30,  # Number of hidden units in RNN layers\n",
        "    rnn_layers=2,  # Number of RNN layers\n",
        "    dropout=0.1,  # Dropout rate for regularization\n",
        ")\n",
        "\n",
        "# Train the model using PyTorch Lightning Trainer on CPU\n",
        "trainer = Trainer(\n",
        "    max_epochs=30,\n",
        "    accelerator=\"cpu\",  # Use CPU for training; change to 'gpu' if GPU is available.\n",
        ")\n",
        "trainer.fit(model, train_dataloaders=train_dataloader, val_dataloaders=val_dataloader)\n"
      ],
      "metadata": {
        "id": "SxbKqYjJG-Pa",
        "colab": {
          "base_uri": "https://localhost:8080/",
          "height": 676
        },
        "outputId": "7f0fa4c1-05f4-4b07-c574-5ab2ab2510db"
      },
      "execution_count": 23,
      "outputs": [
        {
          "output_type": "stream",
          "name": "stderr",
          "text": [
            "INFO: GPU available: False, used: False\n",
            "INFO:lightning.pytorch.utilities.rank_zero:GPU available: False, used: False\n",
            "INFO: TPU available: False, using: 0 TPU cores\n",
            "INFO:lightning.pytorch.utilities.rank_zero:TPU available: False, using: 0 TPU cores\n",
            "INFO: HPU available: False, using: 0 HPUs\n",
            "INFO:lightning.pytorch.utilities.rank_zero:HPU available: False, using: 0 HPUs\n",
            "INFO: \n",
            "  | Name                   | Type                   | Params | Mode \n",
            "--------------------------------------------------------------------------\n",
            "0 | loss                   | NormalDistributionLoss | 0      | train\n",
            "1 | logging_metrics        | ModuleList             | 0      | train\n",
            "2 | embeddings             | MultiEmbedding         | 38     | train\n",
            "3 | rnn                    | LSTM                   | 12.4 K | train\n",
            "4 | distribution_projector | Linear                 | 62     | train\n",
            "--------------------------------------------------------------------------\n",
            "12.5 K    Trainable params\n",
            "0         Non-trainable params\n",
            "12.5 K    Total params\n",
            "0.050     Total estimated model params size (MB)\n",
            "14        Modules in train mode\n",
            "0         Modules in eval mode\n",
            "INFO:lightning.pytorch.callbacks.model_summary:\n",
            "  | Name                   | Type                   | Params | Mode \n",
            "--------------------------------------------------------------------------\n",
            "0 | loss                   | NormalDistributionLoss | 0      | train\n",
            "1 | logging_metrics        | ModuleList             | 0      | train\n",
            "2 | embeddings             | MultiEmbedding         | 38     | train\n",
            "3 | rnn                    | LSTM                   | 12.4 K | train\n",
            "4 | distribution_projector | Linear                 | 62     | train\n",
            "--------------------------------------------------------------------------\n",
            "12.5 K    Trainable params\n",
            "0         Non-trainable params\n",
            "12.5 K    Total params\n",
            "0.050     Total estimated model params size (MB)\n",
            "14        Modules in train mode\n",
            "0         Modules in eval mode\n",
            "INFO: `Trainer.fit` stopped: `max_epochs=30` reached.\n",
            "INFO:lightning.pytorch.utilities.rank_zero:`Trainer.fit` stopped: `max_epochs=30` reached.\n"
          ]
        }
      ]
    },
    {
      "cell_type": "code",
      "source": [
        "# Evaluate on validation data and print metrics like loss\n",
        "validation_metrics = trainer.validate(model=model, dataloaders=val_dataloader)\n",
        "print(\"Validation Metrics:\", validation_metrics)\n",
        "\n",
        "# Make predictions on validation data\n",
        "predictions = model.predict(val_dataloader)\n",
        "\n",
        "# Print predictions (as NumPy array)\n",
        "print(\"Predictions:\", predictions[:10])  # First 10 predictions\n",
        "\n",
        "# If you want raw predictions with uncertainty intervals:\n",
        "raw_predictions = model.predict(val_dataloader, mode=\"raw\")"
      ],
      "metadata": {
        "id": "eFuBzO3hTFyJ",
        "outputId": "1aa494b0-ed88-4547-8d57-7b7769e5f75f",
        "colab": {
          "base_uri": "https://localhost:8080/",
          "height": 809,
          "referenced_widgets": [
            "1760334bbf734aa98ae1462f823be9e6",
            "8c5bfc32672a4c2382837c324993a262",
            "54b01ea5c6354098977bb31c5c9f14b9",
            "776ea94cd4104126ab645fdf24362b8d",
            "ba2072b8f3374c5ab67547ca8c32c788",
            "e83a1391ba7d44ce882147ed9357fdfa",
            "da3f238cb196416abb08d39de032e698",
            "ff821ee59526464fa5880e888979772f",
            "d64ae8c8214045b8bebaff7ee321717f",
            "96304f957b004f7ab345dcbbf6d88dbd",
            "fd7ae83b71694355b0d0c681c79ebe8f"
          ]
        }
      },
      "execution_count": 24,
      "outputs": [
        {
          "output_type": "display_data",
          "data": {
            "text/plain": [
              "Validation: |          | 0/? [00:00<?, ?it/s]"
            ],
            "application/vnd.jupyter.widget-view+json": {
              "version_major": 2,
              "version_minor": 0,
              "model_id": "1760334bbf734aa98ae1462f823be9e6"
            }
          },
          "metadata": {}
        },
        {
          "output_type": "display_data",
          "data": {
            "text/plain": [
              "┏━━━━━━━━━━━━━━━━━━━━━━━━━━━┳━━━━━━━━━━━━━━━━━━━━━━━━━━━┓\n",
              "┃\u001b[1m \u001b[0m\u001b[1m     Validate metric     \u001b[0m\u001b[1m \u001b[0m┃\u001b[1m \u001b[0m\u001b[1m      DataLoader 0       \u001b[0m\u001b[1m \u001b[0m┃\n",
              "┡━━━━━━━━━━━━━━━━━━━━━━━━━━━╇━━━━━━━━━━━━━━━━━━━━━━━━━━━┩\n",
              "│\u001b[36m \u001b[0m\u001b[36m         val_MAE         \u001b[0m\u001b[36m \u001b[0m│\u001b[35m \u001b[0m\u001b[35m   15.583919525146484    \u001b[0m\u001b[35m \u001b[0m│\n",
              "│\u001b[36m \u001b[0m\u001b[36m        val_MAPE         \u001b[0m\u001b[36m \u001b[0m│\u001b[35m \u001b[0m\u001b[35m      1305522944.0       \u001b[0m\u001b[35m \u001b[0m│\n",
              "│\u001b[36m \u001b[0m\u001b[36m        val_MASE         \u001b[0m\u001b[36m \u001b[0m│\u001b[35m \u001b[0m\u001b[35m   0.43713387846946716   \u001b[0m\u001b[35m \u001b[0m│\n",
              "│\u001b[36m \u001b[0m\u001b[36m        val_RMSE         \u001b[0m\u001b[36m \u001b[0m│\u001b[35m \u001b[0m\u001b[35m    35.10452651977539    \u001b[0m\u001b[35m \u001b[0m│\n",
              "│\u001b[36m \u001b[0m\u001b[36m        val_SMAPE        \u001b[0m\u001b[36m \u001b[0m│\u001b[35m \u001b[0m\u001b[35m   0.31220346689224243   \u001b[0m\u001b[35m \u001b[0m│\n",
              "│\u001b[36m \u001b[0m\u001b[36m        val_loss         \u001b[0m\u001b[36m \u001b[0m│\u001b[35m \u001b[0m\u001b[35m    2.917661666870117    \u001b[0m\u001b[35m \u001b[0m│\n",
              "└───────────────────────────┴───────────────────────────┘\n"
            ],
            "text/html": [
              "<pre style=\"white-space:pre;overflow-x:auto;line-height:normal;font-family:Menlo,'DejaVu Sans Mono',consolas,'Courier New',monospace\">┏━━━━━━━━━━━━━━━━━━━━━━━━━━━┳━━━━━━━━━━━━━━━━━━━━━━━━━━━┓\n",
              "┃<span style=\"font-weight: bold\">      Validate metric      </span>┃<span style=\"font-weight: bold\">       DataLoader 0        </span>┃\n",
              "┡━━━━━━━━━━━━━━━━━━━━━━━━━━━╇━━━━━━━━━━━━━━━━━━━━━━━━━━━┩\n",
              "│<span style=\"color: #008080; text-decoration-color: #008080\">          val_MAE          </span>│<span style=\"color: #800080; text-decoration-color: #800080\">    15.583919525146484     </span>│\n",
              "│<span style=\"color: #008080; text-decoration-color: #008080\">         val_MAPE          </span>│<span style=\"color: #800080; text-decoration-color: #800080\">       1305522944.0        </span>│\n",
              "│<span style=\"color: #008080; text-decoration-color: #008080\">         val_MASE          </span>│<span style=\"color: #800080; text-decoration-color: #800080\">    0.43713387846946716    </span>│\n",
              "│<span style=\"color: #008080; text-decoration-color: #008080\">         val_RMSE          </span>│<span style=\"color: #800080; text-decoration-color: #800080\">     35.10452651977539     </span>│\n",
              "│<span style=\"color: #008080; text-decoration-color: #008080\">         val_SMAPE         </span>│<span style=\"color: #800080; text-decoration-color: #800080\">    0.31220346689224243    </span>│\n",
              "│<span style=\"color: #008080; text-decoration-color: #008080\">         val_loss          </span>│<span style=\"color: #800080; text-decoration-color: #800080\">     2.917661666870117     </span>│\n",
              "└───────────────────────────┴───────────────────────────┘\n",
              "</pre>\n"
            ]
          },
          "metadata": {}
        },
        {
          "output_type": "stream",
          "name": "stderr",
          "text": [
            "INFO: GPU available: False, used: False\n",
            "INFO:lightning.pytorch.utilities.rank_zero:GPU available: False, used: False\n",
            "INFO: TPU available: False, using: 0 TPU cores\n",
            "INFO:lightning.pytorch.utilities.rank_zero:TPU available: False, using: 0 TPU cores\n",
            "INFO: HPU available: False, using: 0 HPUs\n",
            "INFO:lightning.pytorch.utilities.rank_zero:HPU available: False, using: 0 HPUs\n"
          ]
        },
        {
          "output_type": "stream",
          "name": "stdout",
          "text": [
            "Validation Metrics: [{'val_loss': 2.917661666870117, 'val_SMAPE': 0.31220346689224243, 'val_MAE': 15.583919525146484, 'val_RMSE': 35.10452651977539, 'val_MAPE': 1305522944.0, 'val_MASE': 0.43713387846946716}]\n"
          ]
        },
        {
          "output_type": "stream",
          "name": "stderr",
          "text": [
            "INFO: GPU available: False, used: False\n",
            "INFO:lightning.pytorch.utilities.rank_zero:GPU available: False, used: False\n",
            "INFO: TPU available: False, using: 0 TPU cores\n",
            "INFO:lightning.pytorch.utilities.rank_zero:TPU available: False, using: 0 TPU cores\n",
            "INFO: HPU available: False, using: 0 HPUs\n",
            "INFO:lightning.pytorch.utilities.rank_zero:HPU available: False, using: 0 HPUs\n"
          ]
        },
        {
          "output_type": "stream",
          "name": "stdout",
          "text": [
            "Predictions: tensor([[111.8767,  61.3296,  85.7094, 109.1510,  62.9880, 110.1319,  50.7671,\n",
            "         125.8397,  71.2527,  61.9636,  93.4745,  93.0225],\n",
            "        [113.0030,  61.6699,  86.2815, 108.7131,  62.5936, 109.3768,  49.8369,\n",
            "         128.1113,  71.4801,  60.8613,  94.4912,  91.8902],\n",
            "        [110.5548,  59.1928,  85.1543, 105.0375,  60.7968, 107.1434,  48.1269,\n",
            "         125.5874,  69.3539,  60.4255,  91.9466,  86.9705],\n",
            "        [112.8848,  59.7906,  84.6170, 109.5063,  62.1894, 110.1573,  49.1986,\n",
            "         127.1489,  70.9213,  62.0799,  93.7850,  89.5911],\n",
            "        [113.8708,  61.5420,  86.4889, 110.0253,  62.6587, 112.3780,  49.4841,\n",
            "         129.5798,  71.8159,  61.8739,  94.6274,  93.3956],\n",
            "        [116.0785,  63.5719,  88.3070, 111.3003,  65.9097, 112.0643,  51.1190,\n",
            "         133.1224,  73.7953,  65.2994,  93.9858,  97.1797],\n",
            "        [118.5040,  64.9937,  87.7620, 111.2422,  67.7322, 114.0061,  53.1248,\n",
            "         133.6484,  75.1302,  65.8531,  96.7031,  98.3790],\n",
            "        [ 71.9651,  97.1725, 119.1705,  74.7856, 119.6014,  61.6385, 136.4987,\n",
            "          82.1427,  75.9755, 100.8573, 104.8625,      nan],\n",
            "        [ 87.8557, 110.0703,  69.0647, 109.2493,  57.4694, 128.1730,  76.7346,\n",
            "          68.2958,  93.5848,  98.5183,      nan,      nan],\n",
            "        [104.5617,  67.7915, 106.2119,  56.4330, 121.6842,  74.2231,  67.3745,\n",
            "          90.1029,  93.6188,      nan,      nan,      nan]])\n"
          ]
        }
      ]
    },
    {
      "cell_type": "code",
      "source": [
        "\"\"\"\n",
        "3. N-BEATS (Neural Basis Expansion Analysis)\n",
        "N-BEATS is a deep learning architecture specifically designed for univariate time series forecasting. It employs a stack of fully connected feedforward neural networks and achieves strong results with relatively simple architecture setup.\n",
        "\"\"\""
      ],
      "metadata": {
        "id": "Sz7dKSiQAWtc"
      },
      "execution_count": null,
      "outputs": []
    },
    {
      "cell_type": "code",
      "source": [
        "print(df.isnull().sum())"
      ],
      "metadata": {
        "id": "BHZyc9RgA0Lr",
        "outputId": "6657c026-949b-4abc-860c-e8f7b94af79f",
        "colab": {
          "base_uri": "https://localhost:8080/"
        }
      },
      "execution_count": 25,
      "outputs": [
        {
          "output_type": "stream",
          "name": "stdout",
          "text": [
            "daily_orders    0\n",
            "country         0\n",
            "day_of_week     0\n",
            "is_weekend      0\n",
            "time_idx        0\n",
            "dtype: int64\n"
          ]
        }
      ]
    },
    {
      "cell_type": "code",
      "source": [
        "import pandas as pd\n",
        "\n",
        "# Check the number of entries for each group\n",
        "group_counts = df.groupby('country').size()\n",
        "print(\"Entries per group:\\n\", group_counts)\n",
        "\n",
        "# Check the maximum index for your time index\n",
        "max_time_idx = df['time_idx'].max()\n",
        "print(\"Max time index:\", max_time_idx)\n",
        "\n",
        "# You need at least `max_encoder_length + max_prediction_length` entries for each country\n",
        "required_entries_per_group = 24 + 12  # Encoder length + prediction length\n",
        "print(f\"Required entries per group: {required_entries_per_group}\")\n",
        "print(\"Groups with insufficient entries:\")\n",
        "print(group_counts[group_counts < required_entries_per_group])"
      ],
      "metadata": {
        "id": "-9merhXuBuSE",
        "outputId": "2095f9c2-c77e-416d-8516-52850e2a7112",
        "colab": {
          "base_uri": "https://localhost:8080/"
        }
      },
      "execution_count": 26,
      "outputs": [
        {
          "output_type": "stream",
          "name": "stdout",
          "text": [
            "Entries per group:\n",
            " country\n",
            "Country_A    30\n",
            "dtype: int64\n",
            "Max time index: 29\n",
            "Required entries per group: 36\n",
            "Groups with insufficient entries:\n",
            "country\n",
            "Country_A    30\n",
            "dtype: int64\n"
          ]
        }
      ]
    },
    {
      "cell_type": "code",
      "source": [
        "print(df.columns)\n",
        "print(df.head())"
      ],
      "metadata": {
        "id": "kw6_fyvqCe96",
        "outputId": "64b49a35-5b15-4fe7-fdec-9d4fe414385b",
        "colab": {
          "base_uri": "https://localhost:8080/"
        }
      },
      "execution_count": 27,
      "outputs": [
        {
          "output_type": "stream",
          "name": "stdout",
          "text": [
            "Index(['daily_orders', 'country', 'day_of_week', 'is_weekend', 'time_idx'], dtype='object')\n",
            "   daily_orders    country day_of_week is_weekend  time_idx\n",
            "0         81.00  Country_A           0          0         0\n",
            "1        123.00  Country_A           1          0         1\n",
            "2         60.00  Country_A           2          0         2\n",
            "3         71.00  Country_A           3          0         3\n",
            "4         60.00  Country_A           4          0         4\n"
          ]
        }
      ]
    },
    {
      "cell_type": "code",
      "source": [
        "print(df.columns.tolist())\n",
        "print(df.dtypes)\n",
        "print(df.isnull().sum())\n",
        "print(df.duplicated().sum())"
      ],
      "metadata": {
        "id": "68Ke9Uh_CyVk",
        "outputId": "476ea06e-d8f8-4334-a1e7-2347c045f290",
        "colab": {
          "base_uri": "https://localhost:8080/"
        }
      },
      "execution_count": 28,
      "outputs": [
        {
          "output_type": "stream",
          "name": "stdout",
          "text": [
            "['daily_orders', 'country', 'day_of_week', 'is_weekend', 'time_idx']\n",
            "daily_orders    float64\n",
            "country          object\n",
            "day_of_week      object\n",
            "is_weekend       object\n",
            "time_idx          int64\n",
            "dtype: object\n",
            "daily_orders    0\n",
            "country         0\n",
            "day_of_week     0\n",
            "is_weekend      0\n",
            "time_idx        0\n",
            "dtype: int64\n",
            "0\n"
          ]
        }
      ]
    },
    {
      "cell_type": "code",
      "source": [
        "import pandas as pd\n",
        "from statsmodels.tsa.holtwinters import ExponentialSmoothing\n",
        "\n",
        "# Assuming 'df' is your DataFrame containing the time series data\n",
        "# Ensure 'time_idx', 'daily_orders', and 'country' columns exist\n",
        "synthetic_data = []\n",
        "\n",
        "# Loop through each group (e.g., by 'country') if applicable\n",
        "for country, group in df.groupby('country'):\n",
        "    # Fit an Exponential Smoothing model\n",
        "    model = ExponentialSmoothing(\n",
        "        group['daily_orders'],\n",
        "        trend='add',  # Additive trend\n",
        "        seasonal='add',  # Additive seasonality\n",
        "        seasonal_periods=12  # Assuming monthly seasonality; adjust as needed\n",
        "    )\n",
        "    fitted_model = model.fit()\n",
        "\n",
        "    # Generate future forecasts (e.g., next 24 points)\n",
        "    forecast_steps = 24  # Increased number of synthetic points to generate\n",
        "    forecast = fitted_model.forecast(steps=forecast_steps)\n",
        "\n",
        "    # Create a DataFrame for the synthetic data\n",
        "    synthetic_df = pd.DataFrame({\n",
        "        'time_idx': range(group['time_idx'].max() + 1, group['time_idx'].max() + 1 + len(forecast)),\n",
        "        'daily_orders': forecast,\n",
        "        'country': country  # Retain the group identifier\n",
        "    })\n",
        "\n",
        "    synthetic_data.append(synthetic_df)\n",
        "\n",
        "# Combine all synthetic data into a single DataFrame\n",
        "synthetic_data = pd.concat(synthetic_data, ignore_index=True)\n",
        "\n",
        "# Append synthetic data to the original dataset\n",
        "augmented_df = pd.concat([df, synthetic_data], ignore_index=True)\n",
        "\n",
        "# Sort by time_idx and reset index for continuity\n",
        "augmented_df = augmented_df.sort_values(by=['country', 'time_idx']).reset_index(drop=True)\n",
        "\n",
        "#print(augmented_df.head())\n",
        "print(f\"Total entries in training dataset: {len(augmented_df)}\")\n",
        "print(augmented_df)"
      ],
      "metadata": {
        "id": "7zPbY7gdOF7t",
        "outputId": "a8f6e0fe-d7a3-434d-c134-74124b5dcfa9",
        "colab": {
          "base_uri": "https://localhost:8080/"
        }
      },
      "execution_count": 54,
      "outputs": [
        {
          "output_type": "stream",
          "name": "stdout",
          "text": [
            "Total entries in training dataset: 54\n",
            "    daily_orders    country day_of_week is_weekend  time_idx\n",
            "0          81.00  Country_A           0          0         0\n",
            "1         123.00  Country_A           1          0         1\n",
            "2          60.00  Country_A           2          0         2\n",
            "3          71.00  Country_A           3          0         3\n",
            "4          60.00  Country_A           4          0         4\n",
            "..           ...        ...         ...        ...       ...\n",
            "49        125.33  Country_A         NaN        NaN        49\n",
            "50         62.67  Country_A         NaN        NaN        50\n",
            "51         89.00  Country_A         NaN        NaN        51\n",
            "52         72.01  Country_A         NaN        NaN        52\n",
            "53         73.03  Country_A         NaN        NaN        53\n",
            "\n",
            "[54 rows x 5 columns]\n"
          ]
        }
      ]
    },
    {
      "cell_type": "code",
      "source": [
        "from pytorch_forecasting import TimeSeriesDataSet\n",
        "\n",
        "training_1 = TimeSeriesDataSet(\n",
        "    augmented_df,\n",
        "    time_idx=\"time_idx\",\n",
        "    target=\"daily_orders\",\n",
        "    group_ids=[\"country\"],\n",
        "    min_encoder_length=12,\n",
        "    max_encoder_length=12,\n",
        "    min_prediction_length=6,\n",
        "    max_prediction_length=6,\n",
        "    static_categoricals=[\"country\"],\n",
        "    time_varying_known_categoricals=[\"day_of_week\", \"is_weekend\"],\n",
        "    time_varying_unknown_reals=[\"daily_orders\"],\n",
        ")\n",
        "# After this, check the number of entries in the dataset\n",
        "print(f\"Total entries in training dataset: {len(training_1)}\")"
      ],
      "metadata": {
        "id": "UEfpZTjJBzKC",
        "outputId": "9d33d06f-96d6-451f-e22d-cc1a95870c2e",
        "colab": {
          "base_uri": "https://localhost:8080/",
          "height": 356
        }
      },
      "execution_count": 51,
      "outputs": [
        {
          "output_type": "error",
          "ename": "TypeError",
          "evalue": "'<' not supported between instances of 'float' and 'str'",
          "traceback": [
            "\u001b[0;31m---------------------------------------------------------------------------\u001b[0m",
            "\u001b[0;31mTypeError\u001b[0m                                 Traceback (most recent call last)",
            "\u001b[0;32m<ipython-input-51-83ee7973eb1b>\u001b[0m in \u001b[0;36m<cell line: 0>\u001b[0;34m()\u001b[0m\n\u001b[1;32m      1\u001b[0m \u001b[0;32mfrom\u001b[0m \u001b[0mpytorch_forecasting\u001b[0m \u001b[0;32mimport\u001b[0m \u001b[0mTimeSeriesDataSet\u001b[0m\u001b[0;34m\u001b[0m\u001b[0;34m\u001b[0m\u001b[0m\n\u001b[1;32m      2\u001b[0m \u001b[0;34m\u001b[0m\u001b[0m\n\u001b[0;32m----> 3\u001b[0;31m training_1 = TimeSeriesDataSet(  \n\u001b[0m\u001b[1;32m      4\u001b[0m     \u001b[0maugmented_df\u001b[0m\u001b[0;34m,\u001b[0m\u001b[0;34m\u001b[0m\u001b[0;34m\u001b[0m\u001b[0m\n\u001b[1;32m      5\u001b[0m     \u001b[0mtime_idx\u001b[0m\u001b[0;34m=\u001b[0m\u001b[0;34m\"time_idx\"\u001b[0m\u001b[0;34m,\u001b[0m\u001b[0;34m\u001b[0m\u001b[0;34m\u001b[0m\u001b[0m\n",
            "\u001b[0;32m/usr/local/lib/python3.11/dist-packages/pytorch_forecasting/data/timeseries.py\u001b[0m in \u001b[0;36m__init__\u001b[0;34m(self, data, time_idx, target, group_ids, weight, max_encoder_length, min_encoder_length, min_prediction_idx, min_prediction_length, max_prediction_length, static_categoricals, static_reals, time_varying_known_categoricals, time_varying_known_reals, time_varying_unknown_categoricals, time_varying_unknown_reals, variable_groups, constant_fill_strategy, allow_missing_timesteps, lags, add_relative_time_idx, add_target_scales, add_encoder_length, target_normalizer, categorical_encoders, scalers, randomize_length, predict_mode)\u001b[0m\n\u001b[1;32m    492\u001b[0m \u001b[0;34m\u001b[0m\u001b[0m\n\u001b[1;32m    493\u001b[0m         \u001b[0;31m# preprocess data\u001b[0m\u001b[0;34m\u001b[0m\u001b[0;34m\u001b[0m\u001b[0m\n\u001b[0;32m--> 494\u001b[0;31m         \u001b[0mdata\u001b[0m \u001b[0;34m=\u001b[0m \u001b[0mself\u001b[0m\u001b[0;34m.\u001b[0m\u001b[0m_preprocess_data\u001b[0m\u001b[0;34m(\u001b[0m\u001b[0mdata\u001b[0m\u001b[0;34m)\u001b[0m\u001b[0;34m\u001b[0m\u001b[0;34m\u001b[0m\u001b[0m\n\u001b[0m\u001b[1;32m    495\u001b[0m         \u001b[0;32mfor\u001b[0m \u001b[0mtarget\u001b[0m \u001b[0;32min\u001b[0m \u001b[0mself\u001b[0m\u001b[0;34m.\u001b[0m\u001b[0mtarget_names\u001b[0m\u001b[0;34m:\u001b[0m\u001b[0;34m\u001b[0m\u001b[0;34m\u001b[0m\u001b[0m\n\u001b[1;32m    496\u001b[0m             \u001b[0;32massert\u001b[0m \u001b[0mtarget\u001b[0m \u001b[0;32mnot\u001b[0m \u001b[0;32min\u001b[0m \u001b[0mself\u001b[0m\u001b[0;34m.\u001b[0m\u001b[0m_scalers\u001b[0m\u001b[0;34m,\u001b[0m \u001b[0;34m\"Target normalizer is separate and not in scalers.\"\u001b[0m\u001b[0;34m\u001b[0m\u001b[0;34m\u001b[0m\u001b[0m\n",
            "\u001b[0;32m/usr/local/lib/python3.11/dist-packages/pytorch_forecasting/data/timeseries.py\u001b[0m in \u001b[0;36m_preprocess_data\u001b[0;34m(self, data)\u001b[0m\n\u001b[1;32m    738\u001b[0m             \u001b[0;32melse\u001b[0m\u001b[0;34m:\u001b[0m\u001b[0;34m\u001b[0m\u001b[0;34m\u001b[0m\u001b[0m\n\u001b[1;32m    739\u001b[0m                 \u001b[0;32mif\u001b[0m \u001b[0mname\u001b[0m \u001b[0;32mnot\u001b[0m \u001b[0;32min\u001b[0m \u001b[0mself\u001b[0m\u001b[0;34m.\u001b[0m\u001b[0m_categorical_encoders\u001b[0m\u001b[0;34m:\u001b[0m\u001b[0;34m\u001b[0m\u001b[0;34m\u001b[0m\u001b[0m\n\u001b[0;32m--> 740\u001b[0;31m                     \u001b[0mself\u001b[0m\u001b[0;34m.\u001b[0m\u001b[0m_categorical_encoders\u001b[0m\u001b[0;34m[\u001b[0m\u001b[0mname\u001b[0m\u001b[0;34m]\u001b[0m \u001b[0;34m=\u001b[0m \u001b[0mNaNLabelEncoder\u001b[0m\u001b[0;34m(\u001b[0m\u001b[0;34m)\u001b[0m\u001b[0;34m.\u001b[0m\u001b[0mfit\u001b[0m\u001b[0;34m(\u001b[0m\u001b[0mdata\u001b[0m\u001b[0;34m[\u001b[0m\u001b[0mname\u001b[0m\u001b[0;34m]\u001b[0m\u001b[0;34m)\u001b[0m\u001b[0;34m\u001b[0m\u001b[0;34m\u001b[0m\u001b[0m\n\u001b[0m\u001b[1;32m    741\u001b[0m                 \u001b[0;32melif\u001b[0m \u001b[0mself\u001b[0m\u001b[0;34m.\u001b[0m\u001b[0m_categorical_encoders\u001b[0m\u001b[0;34m[\u001b[0m\u001b[0mname\u001b[0m\u001b[0;34m]\u001b[0m \u001b[0;32mis\u001b[0m \u001b[0;32mnot\u001b[0m \u001b[0;32mNone\u001b[0m \u001b[0;32mand\u001b[0m \u001b[0mname\u001b[0m \u001b[0;32mnot\u001b[0m \u001b[0;32min\u001b[0m \u001b[0mself\u001b[0m\u001b[0;34m.\u001b[0m\u001b[0mtarget_names\u001b[0m\u001b[0;34m:\u001b[0m\u001b[0;34m\u001b[0m\u001b[0;34m\u001b[0m\u001b[0m\n\u001b[1;32m    742\u001b[0m                     \u001b[0;32mtry\u001b[0m\u001b[0;34m:\u001b[0m\u001b[0;34m\u001b[0m\u001b[0;34m\u001b[0m\u001b[0m\n",
            "\u001b[0;32m/usr/local/lib/python3.11/dist-packages/pytorch_forecasting/data/encoders.py\u001b[0m in \u001b[0;36mfit\u001b[0;34m(self, y, overwrite)\u001b[0m\n\u001b[1;32m    284\u001b[0m \u001b[0;34m\u001b[0m\u001b[0m\n\u001b[1;32m    285\u001b[0m         \u001b[0midx\u001b[0m \u001b[0;34m+=\u001b[0m \u001b[0moffset\u001b[0m\u001b[0;34m\u001b[0m\u001b[0;34m\u001b[0m\u001b[0m\n\u001b[0;32m--> 286\u001b[0;31m         \u001b[0;32mfor\u001b[0m \u001b[0mval\u001b[0m \u001b[0;32min\u001b[0m \u001b[0mnp\u001b[0m\u001b[0;34m.\u001b[0m\u001b[0munique\u001b[0m\u001b[0;34m(\u001b[0m\u001b[0my\u001b[0m\u001b[0;34m)\u001b[0m\u001b[0;34m:\u001b[0m\u001b[0;34m\u001b[0m\u001b[0;34m\u001b[0m\u001b[0m\n\u001b[0m\u001b[1;32m    287\u001b[0m             \u001b[0;32mif\u001b[0m \u001b[0mval\u001b[0m \u001b[0;32mnot\u001b[0m \u001b[0;32min\u001b[0m \u001b[0mself\u001b[0m\u001b[0;34m.\u001b[0m\u001b[0mclasses_\u001b[0m\u001b[0;34m:\u001b[0m\u001b[0;34m\u001b[0m\u001b[0;34m\u001b[0m\u001b[0m\n\u001b[1;32m    288\u001b[0m                 \u001b[0mself\u001b[0m\u001b[0;34m.\u001b[0m\u001b[0mclasses_\u001b[0m\u001b[0;34m[\u001b[0m\u001b[0mval\u001b[0m\u001b[0;34m]\u001b[0m \u001b[0;34m=\u001b[0m \u001b[0midx\u001b[0m\u001b[0;34m\u001b[0m\u001b[0;34m\u001b[0m\u001b[0m\n",
            "\u001b[0;32m/usr/local/lib/python3.11/dist-packages/numpy/lib/arraysetops.py\u001b[0m in \u001b[0;36munique\u001b[0;34m(ar, return_index, return_inverse, return_counts, axis, equal_nan)\u001b[0m\n\u001b[1;32m    272\u001b[0m     \u001b[0mar\u001b[0m \u001b[0;34m=\u001b[0m \u001b[0mnp\u001b[0m\u001b[0;34m.\u001b[0m\u001b[0masanyarray\u001b[0m\u001b[0;34m(\u001b[0m\u001b[0mar\u001b[0m\u001b[0;34m)\u001b[0m\u001b[0;34m\u001b[0m\u001b[0;34m\u001b[0m\u001b[0m\n\u001b[1;32m    273\u001b[0m     \u001b[0;32mif\u001b[0m \u001b[0maxis\u001b[0m \u001b[0;32mis\u001b[0m \u001b[0;32mNone\u001b[0m\u001b[0;34m:\u001b[0m\u001b[0;34m\u001b[0m\u001b[0;34m\u001b[0m\u001b[0m\n\u001b[0;32m--> 274\u001b[0;31m         ret = _unique1d(ar, return_index, return_inverse, return_counts, \n\u001b[0m\u001b[1;32m    275\u001b[0m                         equal_nan=equal_nan)\n\u001b[1;32m    276\u001b[0m         \u001b[0;32mreturn\u001b[0m \u001b[0m_unpack_tuple\u001b[0m\u001b[0;34m(\u001b[0m\u001b[0mret\u001b[0m\u001b[0;34m)\u001b[0m\u001b[0;34m\u001b[0m\u001b[0;34m\u001b[0m\u001b[0m\n",
            "\u001b[0;32m/usr/local/lib/python3.11/dist-packages/numpy/lib/arraysetops.py\u001b[0m in \u001b[0;36m_unique1d\u001b[0;34m(ar, return_index, return_inverse, return_counts, equal_nan)\u001b[0m\n\u001b[1;32m    334\u001b[0m         \u001b[0maux\u001b[0m \u001b[0;34m=\u001b[0m \u001b[0mar\u001b[0m\u001b[0;34m[\u001b[0m\u001b[0mperm\u001b[0m\u001b[0;34m]\u001b[0m\u001b[0;34m\u001b[0m\u001b[0;34m\u001b[0m\u001b[0m\n\u001b[1;32m    335\u001b[0m     \u001b[0;32melse\u001b[0m\u001b[0;34m:\u001b[0m\u001b[0;34m\u001b[0m\u001b[0;34m\u001b[0m\u001b[0m\n\u001b[0;32m--> 336\u001b[0;31m         \u001b[0mar\u001b[0m\u001b[0;34m.\u001b[0m\u001b[0msort\u001b[0m\u001b[0;34m(\u001b[0m\u001b[0;34m)\u001b[0m\u001b[0;34m\u001b[0m\u001b[0;34m\u001b[0m\u001b[0m\n\u001b[0m\u001b[1;32m    337\u001b[0m         \u001b[0maux\u001b[0m \u001b[0;34m=\u001b[0m \u001b[0mar\u001b[0m\u001b[0;34m\u001b[0m\u001b[0;34m\u001b[0m\u001b[0m\n\u001b[1;32m    338\u001b[0m     \u001b[0mmask\u001b[0m \u001b[0;34m=\u001b[0m \u001b[0mnp\u001b[0m\u001b[0;34m.\u001b[0m\u001b[0mempty\u001b[0m\u001b[0;34m(\u001b[0m\u001b[0maux\u001b[0m\u001b[0;34m.\u001b[0m\u001b[0mshape\u001b[0m\u001b[0;34m,\u001b[0m \u001b[0mdtype\u001b[0m\u001b[0;34m=\u001b[0m\u001b[0mnp\u001b[0m\u001b[0;34m.\u001b[0m\u001b[0mbool_\u001b[0m\u001b[0;34m)\u001b[0m\u001b[0;34m\u001b[0m\u001b[0;34m\u001b[0m\u001b[0m\n",
            "\u001b[0;31mTypeError\u001b[0m: '<' not supported between instances of 'float' and 'str'"
          ]
        }
      ]
    },
    {
      "cell_type": "code",
      "source": [
        "%%capture\n",
        "from pytorch_forecasting import NBeats\n",
        "from lightning.pytorch import Trainer\n",
        "\n",
        "# Define the N-BEATS model from the dataset\n",
        "model = NBeats.from_dataset(\n",
        "    training,\n",
        "    learning_rate=3e-2,\n",
        "    weight_decay=1e-2,\n",
        "    widths=[32, 512],  # Widths of the blocks\n",
        "    backcast_loss_ratio=0.1,  # Loss ratio for backcast vs forecast\n",
        ")\n",
        "\n",
        "# Train the model using PyTorch Lightning Trainer on CPU or GPU\n",
        "trainer = Trainer(\n",
        "    max_epochs=30,\n",
        "    accelerator=\"cpu\",  # Change to \"gpu\" if you want to use GPU\n",
        ")\n",
        "trainer.fit(model, train_dataloaders=train_dataloader, val_dataloaders=val_dataloader)\n"
      ],
      "metadata": {
        "id": "kzDp5I5kHCWI",
        "outputId": "28f54c4b-53bf-43f2-8614-5964b557ca61",
        "colab": {
          "base_uri": "https://localhost:8080/",
          "height": 332
        }
      },
      "execution_count": 30,
      "outputs": [
        {
          "output_type": "error",
          "ename": "AssertionError",
          "evalue": "The only variable as input should be the target which is part of time_varying_unknown_reals",
          "traceback": [
            "\u001b[0;31m---------------------------------------------------------------------------\u001b[0m",
            "\u001b[0;31mAssertionError\u001b[0m                            Traceback (most recent call last)",
            "\u001b[0;32m<ipython-input-30-6eadc06d70a4>\u001b[0m in \u001b[0;36m<cell line: 0>\u001b[0;34m()\u001b[0m\n\u001b[1;32m      3\u001b[0m \u001b[0;34m\u001b[0m\u001b[0m\n\u001b[1;32m      4\u001b[0m \u001b[0;31m# Define the N-BEATS model from the dataset\u001b[0m\u001b[0;34m\u001b[0m\u001b[0;34m\u001b[0m\u001b[0m\n\u001b[0;32m----> 5\u001b[0;31m model = NBeats.from_dataset(\n\u001b[0m\u001b[1;32m      6\u001b[0m     \u001b[0mtraining\u001b[0m\u001b[0;34m,\u001b[0m\u001b[0;34m\u001b[0m\u001b[0;34m\u001b[0m\u001b[0m\n\u001b[1;32m      7\u001b[0m     \u001b[0mlearning_rate\u001b[0m\u001b[0;34m=\u001b[0m\u001b[0;36m3e-2\u001b[0m\u001b[0;34m,\u001b[0m\u001b[0;34m\u001b[0m\u001b[0;34m\u001b[0m\u001b[0m\n",
            "\u001b[0;32m/usr/local/lib/python3.11/dist-packages/pytorch_forecasting/models/nbeats/__init__.py\u001b[0m in \u001b[0;36mfrom_dataset\u001b[0;34m(cls, dataset, **kwargs)\u001b[0m\n\u001b[1;32m    226\u001b[0m \u001b[0;34m\u001b[0m\u001b[0m\n\u001b[1;32m    227\u001b[0m         assert (\n\u001b[0;32m--> 228\u001b[0;31m             \u001b[0mlen\u001b[0m\u001b[0;34m(\u001b[0m\u001b[0mdataset\u001b[0m\u001b[0;34m.\u001b[0m\u001b[0mflat_categoricals\u001b[0m\u001b[0;34m)\u001b[0m \u001b[0;34m==\u001b[0m \u001b[0;36m0\u001b[0m\u001b[0;34m\u001b[0m\u001b[0;34m\u001b[0m\u001b[0m\n\u001b[0m\u001b[1;32m    229\u001b[0m             \u001b[0;32mand\u001b[0m \u001b[0mlen\u001b[0m\u001b[0;34m(\u001b[0m\u001b[0mdataset\u001b[0m\u001b[0;34m.\u001b[0m\u001b[0mreals\u001b[0m\u001b[0;34m)\u001b[0m \u001b[0;34m==\u001b[0m \u001b[0;36m1\u001b[0m\u001b[0;34m\u001b[0m\u001b[0;34m\u001b[0m\u001b[0m\n\u001b[1;32m    230\u001b[0m             \u001b[0;32mand\u001b[0m \u001b[0mlen\u001b[0m\u001b[0;34m(\u001b[0m\u001b[0mdataset\u001b[0m\u001b[0;34m.\u001b[0m\u001b[0m_time_varying_unknown_reals\u001b[0m\u001b[0;34m)\u001b[0m \u001b[0;34m==\u001b[0m \u001b[0;36m1\u001b[0m\u001b[0;34m\u001b[0m\u001b[0;34m\u001b[0m\u001b[0m\n",
            "\u001b[0;31mAssertionError\u001b[0m: The only variable as input should be the target which is part of time_varying_unknown_reals"
          ]
        }
      ]
    },
    {
      "cell_type": "code",
      "source": [
        "# Evaluate on validation data and print metrics like loss\n",
        "validation_metrics = trainer.validate(model=model, dataloaders=val_dataloader)\n",
        "print(\"Validation Metrics:\", validation_metrics)"
      ],
      "metadata": {
        "id": "Rn3_vT8MTVR3"
      },
      "execution_count": null,
      "outputs": []
    },
    {
      "cell_type": "code",
      "source": [
        "# Make predictions on validation data\n",
        "predictions = model.predict(val_dataloader)\n",
        "\n",
        "# Print predictions (as NumPy array)\n",
        "print(\"Predictions:\", predictions[:10])  # First 10 predictions"
      ],
      "metadata": {
        "id": "kgLrwZHaTWlO"
      },
      "execution_count": null,
      "outputs": []
    },
    {
      "cell_type": "markdown",
      "source": [
        "\"\"\"\n",
        "5. Temporal Convolutional Networks (TCN)\n",
        "TCNs are an alternative to recurrent architectures, using convolutional layers for sequence modeling. They retain long-term dependencies while offering faster training times than RNNs.\n",
        "\n",
        "\"\"\""
      ],
      "metadata": {
        "id": "Sagr8TK1D8NY"
      }
    },
    {
      "cell_type": "code",
      "source": [
        "%%capture\n",
        "!pip uninstall u8darts  # Uninstall any potential faulty installs\n",
        "!pip install u8darts    # Install Darts"
      ],
      "metadata": {
        "id": "gFcEAhOhGGeA"
      },
      "execution_count": 33,
      "outputs": []
    },
    {
      "cell_type": "code",
      "source": [
        "print(f\"Total entries in original dataset: {len(df)}\")"
      ],
      "metadata": {
        "id": "vDSX8njqLSwt",
        "outputId": "a8826f5c-6433-484b-c1c7-15b256085084",
        "colab": {
          "base_uri": "https://localhost:8080/"
        }
      },
      "execution_count": 38,
      "outputs": [
        {
          "output_type": "stream",
          "name": "stdout",
          "text": [
            "Total entries in original dataset: 30\n"
          ]
        }
      ]
    },
    {
      "cell_type": "code",
      "source": [
        "import pandas as pd\n",
        "from pytorch_forecasting import TimeSeriesDataSet\n",
        "from darts import TimeSeries\n",
        "from darts.models import TCNModel\n",
        "from sklearn.model_selection import train_test_split\n",
        "\n",
        "# Assuming 'df' is your DataFrame containing the time series data\n",
        "# Create the TimeSeriesDataSet\n",
        "training = TimeSeriesDataSet(\n",
        "    df,\n",
        "    time_idx=\"time_idx\",\n",
        "    target=\"daily_orders\",\n",
        "    group_ids=[\"country\"],\n",
        "    min_encoder_length=12,\n",
        "    max_encoder_length=12,\n",
        "    min_prediction_length=6,\n",
        "    max_prediction_length=6,\n",
        "    static_categoricals=[\"country\"],\n",
        "    time_varying_known_categoricals=[\"day_of_week\", \"is_weekend\"],\n",
        "    time_varying_unknown_reals=[\"daily_orders\"],\n",
        ")\n",
        "\n",
        "# Check the number of entries in the dataset\n",
        "print(f\"Total entries in training dataset: {len(training)}\")\n",
        "\n",
        "# Split the data into training and validation sets\n",
        "train_df, val_df = train_test_split(df, test_size=0.2, shuffle=False)\n",
        "\n",
        "# Convert DataFrames to Darts TimeSeries\n",
        "train_series = TimeSeries.from_dataframe(train_df, time_col='time_idx', value_cols='daily_orders', fill_missing_dates=True)\n",
        "val_series = TimeSeries.from_dataframe(val_df, time_col='time_idx', value_cols='daily_orders', fill_missing_dates=True)\n",
        "\n",
        "# Create the TCN model with the specified parameters\n",
        "# Adjust chunk lengths\n",
        "input_chunk_length = 6\n",
        "output_chunk_length = 3\n",
        "kernel_size = 5\n",
        "\n",
        "model = TCNModel(\n",
        "    input_chunk_length=input_chunk_length,\n",
        "    output_chunk_length=output_chunk_length,\n",
        "    n_epochs=20,\n",
        "    dropout=0,\n",
        "    dilation_base=2,\n",
        "    weight_norm=True,\n",
        "    kernel_size=kernel_size,\n",
        "    num_filters=4,\n",
        "    random_state=0\n",
        ")\n",
        "\n",
        "# Ensure training and validation sets meet new length requirements\n",
        "train_series = TimeSeries.from_dataframe(train_df, time_col='time_idx', value_cols='daily_orders', fill_missing_dates=True)\n",
        "val_series = TimeSeries.from_dataframe(val_df, time_col='time_idx', value_cols='daily_orders', fill_missing_dates=True)\n",
        "\n",
        "model.fit(train_series, val_series=val_series)\n"
      ],
      "metadata": {
        "id": "G0HzHj-yHGZ2",
        "outputId": "7bfb0ff9-b936-47a9-d84e-259c8d333f48",
        "colab": {
          "base_uri": "https://localhost:8080/",
          "height": 356
        }
      },
      "execution_count": 40,
      "outputs": [
        {
          "output_type": "stream",
          "name": "stderr",
          "text": [
            "ERROR:darts.models.forecasting.torch_forecasting_model:ValueError: The provided validation time series dataset is too short for obtaining even one training point.\n"
          ]
        },
        {
          "output_type": "stream",
          "name": "stdout",
          "text": [
            "Total entries in training dataset: 13\n"
          ]
        },
        {
          "output_type": "error",
          "ename": "ValueError",
          "evalue": "The provided validation time series dataset is too short for obtaining even one training point.",
          "traceback": [
            "\u001b[0;31m---------------------------------------------------------------------------\u001b[0m",
            "\u001b[0;31mValueError\u001b[0m                                Traceback (most recent call last)",
            "\u001b[0;32m<ipython-input-40-79e433ee2c56>\u001b[0m in \u001b[0;36m<cell line: 0>\u001b[0;34m()\u001b[0m\n\u001b[1;32m     53\u001b[0m \u001b[0mval_series\u001b[0m \u001b[0;34m=\u001b[0m \u001b[0mTimeSeries\u001b[0m\u001b[0;34m.\u001b[0m\u001b[0mfrom_dataframe\u001b[0m\u001b[0;34m(\u001b[0m\u001b[0mval_df\u001b[0m\u001b[0;34m,\u001b[0m \u001b[0mtime_col\u001b[0m\u001b[0;34m=\u001b[0m\u001b[0;34m'time_idx'\u001b[0m\u001b[0;34m,\u001b[0m \u001b[0mvalue_cols\u001b[0m\u001b[0;34m=\u001b[0m\u001b[0;34m'daily_orders'\u001b[0m\u001b[0;34m,\u001b[0m \u001b[0mfill_missing_dates\u001b[0m\u001b[0;34m=\u001b[0m\u001b[0;32mTrue\u001b[0m\u001b[0;34m)\u001b[0m\u001b[0;34m\u001b[0m\u001b[0;34m\u001b[0m\u001b[0m\n\u001b[1;32m     54\u001b[0m \u001b[0;34m\u001b[0m\u001b[0m\n\u001b[0;32m---> 55\u001b[0;31m \u001b[0mmodel\u001b[0m\u001b[0;34m.\u001b[0m\u001b[0mfit\u001b[0m\u001b[0;34m(\u001b[0m\u001b[0mtrain_series\u001b[0m\u001b[0;34m,\u001b[0m \u001b[0mval_series\u001b[0m\u001b[0;34m=\u001b[0m\u001b[0mval_series\u001b[0m\u001b[0;34m)\u001b[0m\u001b[0;34m\u001b[0m\u001b[0;34m\u001b[0m\u001b[0m\n\u001b[0m",
            "\u001b[0;32m/usr/local/lib/python3.11/dist-packages/darts/utils/torch.py\u001b[0m in \u001b[0;36mdecorator\u001b[0;34m(self, *args, **kwargs)\u001b[0m\n\u001b[1;32m     78\u001b[0m         \u001b[0;32mwith\u001b[0m \u001b[0mfork_rng\u001b[0m\u001b[0;34m(\u001b[0m\u001b[0;34m)\u001b[0m\u001b[0;34m:\u001b[0m\u001b[0;34m\u001b[0m\u001b[0;34m\u001b[0m\u001b[0m\n\u001b[1;32m     79\u001b[0m             \u001b[0mmanual_seed\u001b[0m\u001b[0;34m(\u001b[0m\u001b[0mself\u001b[0m\u001b[0;34m.\u001b[0m\u001b[0m_random_instance\u001b[0m\u001b[0;34m.\u001b[0m\u001b[0mrandint\u001b[0m\u001b[0;34m(\u001b[0m\u001b[0;36m0\u001b[0m\u001b[0;34m,\u001b[0m \u001b[0mhigh\u001b[0m\u001b[0;34m=\u001b[0m\u001b[0mMAX_TORCH_SEED_VALUE\u001b[0m\u001b[0;34m)\u001b[0m\u001b[0;34m)\u001b[0m\u001b[0;34m\u001b[0m\u001b[0;34m\u001b[0m\u001b[0m\n\u001b[0;32m---> 80\u001b[0;31m             \u001b[0;32mreturn\u001b[0m \u001b[0mdecorated\u001b[0m\u001b[0;34m(\u001b[0m\u001b[0mself\u001b[0m\u001b[0;34m,\u001b[0m \u001b[0;34m*\u001b[0m\u001b[0margs\u001b[0m\u001b[0;34m,\u001b[0m \u001b[0;34m**\u001b[0m\u001b[0mkwargs\u001b[0m\u001b[0;34m)\u001b[0m\u001b[0;34m\u001b[0m\u001b[0;34m\u001b[0m\u001b[0m\n\u001b[0m\u001b[1;32m     81\u001b[0m \u001b[0;34m\u001b[0m\u001b[0m\n\u001b[1;32m     82\u001b[0m     \u001b[0;32mreturn\u001b[0m \u001b[0mdecorator\u001b[0m\u001b[0;34m\u001b[0m\u001b[0;34m\u001b[0m\u001b[0m\n",
            "\u001b[0;32m/usr/local/lib/python3.11/dist-packages/darts/models/forecasting/torch_forecasting_model.py\u001b[0m in \u001b[0;36mfit\u001b[0;34m(self, series, past_covariates, future_covariates, val_series, val_past_covariates, val_future_covariates, trainer, verbose, epochs, max_samples_per_ts, dataloader_kwargs, sample_weight, val_sample_weight)\u001b[0m\n\u001b[1;32m    767\u001b[0m             \u001b[0mfuture_covariates\u001b[0m\u001b[0;34m=\u001b[0m\u001b[0mseq2series\u001b[0m\u001b[0;34m(\u001b[0m\u001b[0mfuture_covariates\u001b[0m\u001b[0;34m)\u001b[0m\u001b[0;34m,\u001b[0m\u001b[0;34m\u001b[0m\u001b[0;34m\u001b[0m\u001b[0m\n\u001b[1;32m    768\u001b[0m         )\n\u001b[0;32m--> 769\u001b[0;31m         \u001b[0;32mreturn\u001b[0m \u001b[0mself\u001b[0m\u001b[0;34m.\u001b[0m\u001b[0mfit_from_dataset\u001b[0m\u001b[0;34m(\u001b[0m\u001b[0;34m*\u001b[0m\u001b[0mparams\u001b[0m\u001b[0;34m)\u001b[0m\u001b[0;34m\u001b[0m\u001b[0;34m\u001b[0m\u001b[0m\n\u001b[0m\u001b[1;32m    770\u001b[0m \u001b[0;34m\u001b[0m\u001b[0m\n\u001b[1;32m    771\u001b[0m     def _setup_for_fit_from_dataset(\n",
            "\u001b[0;32m/usr/local/lib/python3.11/dist-packages/darts/utils/torch.py\u001b[0m in \u001b[0;36mdecorator\u001b[0;34m(self, *args, **kwargs)\u001b[0m\n\u001b[1;32m     78\u001b[0m         \u001b[0;32mwith\u001b[0m \u001b[0mfork_rng\u001b[0m\u001b[0;34m(\u001b[0m\u001b[0;34m)\u001b[0m\u001b[0;34m:\u001b[0m\u001b[0;34m\u001b[0m\u001b[0;34m\u001b[0m\u001b[0m\n\u001b[1;32m     79\u001b[0m             \u001b[0mmanual_seed\u001b[0m\u001b[0;34m(\u001b[0m\u001b[0mself\u001b[0m\u001b[0;34m.\u001b[0m\u001b[0m_random_instance\u001b[0m\u001b[0;34m.\u001b[0m\u001b[0mrandint\u001b[0m\u001b[0;34m(\u001b[0m\u001b[0;36m0\u001b[0m\u001b[0;34m,\u001b[0m \u001b[0mhigh\u001b[0m\u001b[0;34m=\u001b[0m\u001b[0mMAX_TORCH_SEED_VALUE\u001b[0m\u001b[0;34m)\u001b[0m\u001b[0;34m)\u001b[0m\u001b[0;34m\u001b[0m\u001b[0;34m\u001b[0m\u001b[0m\n\u001b[0;32m---> 80\u001b[0;31m             \u001b[0;32mreturn\u001b[0m \u001b[0mdecorated\u001b[0m\u001b[0;34m(\u001b[0m\u001b[0mself\u001b[0m\u001b[0;34m,\u001b[0m \u001b[0;34m*\u001b[0m\u001b[0margs\u001b[0m\u001b[0;34m,\u001b[0m \u001b[0;34m**\u001b[0m\u001b[0mkwargs\u001b[0m\u001b[0;34m)\u001b[0m\u001b[0;34m\u001b[0m\u001b[0;34m\u001b[0m\u001b[0m\n\u001b[0m\u001b[1;32m     81\u001b[0m \u001b[0;34m\u001b[0m\u001b[0m\n\u001b[1;32m     82\u001b[0m     \u001b[0;32mreturn\u001b[0m \u001b[0mdecorator\u001b[0m\u001b[0;34m\u001b[0m\u001b[0;34m\u001b[0m\u001b[0m\n",
            "\u001b[0;32m/usr/local/lib/python3.11/dist-packages/darts/models/forecasting/torch_forecasting_model.py\u001b[0m in \u001b[0;36mfit_from_dataset\u001b[0;34m(self, train_dataset, val_dataset, trainer, verbose, epochs, dataloader_kwargs)\u001b[0m\n\u001b[1;32m    948\u001b[0m         \"\"\"\n\u001b[1;32m    949\u001b[0m         self._train(\n\u001b[0;32m--> 950\u001b[0;31m             *self._setup_for_train(\n\u001b[0m\u001b[1;32m    951\u001b[0m                 \u001b[0mtrain_dataset\u001b[0m\u001b[0;34m=\u001b[0m\u001b[0mtrain_dataset\u001b[0m\u001b[0;34m,\u001b[0m\u001b[0;34m\u001b[0m\u001b[0;34m\u001b[0m\u001b[0m\n\u001b[1;32m    952\u001b[0m                 \u001b[0mval_dataset\u001b[0m\u001b[0;34m=\u001b[0m\u001b[0mval_dataset\u001b[0m\u001b[0;34m,\u001b[0m\u001b[0;34m\u001b[0m\u001b[0;34m\u001b[0m\u001b[0m\n",
            "\u001b[0;32m/usr/local/lib/python3.11/dist-packages/darts/models/forecasting/torch_forecasting_model.py\u001b[0m in \u001b[0;36m_setup_for_train\u001b[0;34m(self, train_dataset, val_dataset, trainer, verbose, epochs, dataloader_kwargs)\u001b[0m\n\u001b[1;32m    990\u001b[0m             \u001b[0mlogger\u001b[0m\u001b[0;34m,\u001b[0m\u001b[0;34m\u001b[0m\u001b[0;34m\u001b[0m\u001b[0m\n\u001b[1;32m    991\u001b[0m         )\n\u001b[0;32m--> 992\u001b[0;31m         raise_if(\n\u001b[0m\u001b[1;32m    993\u001b[0m             \u001b[0mval_dataset\u001b[0m \u001b[0;32mis\u001b[0m \u001b[0;32mnot\u001b[0m \u001b[0;32mNone\u001b[0m \u001b[0;32mand\u001b[0m \u001b[0;34m(\u001b[0m\u001b[0;32mnot\u001b[0m \u001b[0mval_length_ok\u001b[0m \u001b[0;32mor\u001b[0m \u001b[0mlen\u001b[0m\u001b[0;34m(\u001b[0m\u001b[0mval_dataset\u001b[0m\u001b[0;34m)\u001b[0m \u001b[0;34m==\u001b[0m \u001b[0;36m0\u001b[0m\u001b[0;34m)\u001b[0m\u001b[0;34m,\u001b[0m\u001b[0;34m\u001b[0m\u001b[0;34m\u001b[0m\u001b[0m\n\u001b[1;32m    994\u001b[0m             \u001b[0;34m\"The provided validation time series dataset is too short for obtaining even one training point.\"\u001b[0m\u001b[0;34m,\u001b[0m\u001b[0;34m\u001b[0m\u001b[0;34m\u001b[0m\u001b[0m\n",
            "\u001b[0;32m/usr/local/lib/python3.11/dist-packages/darts/logging.py\u001b[0m in \u001b[0;36mraise_if\u001b[0;34m(condition, message, logger)\u001b[0m\n\u001b[1;32m    103\u001b[0m         \u001b[0;32mif\u001b[0m\u001b[0;31m \u001b[0m\u001b[0;31m`\u001b[0m\u001b[0mcondition\u001b[0m\u001b[0;31m`\u001b[0m \u001b[0;32mis\u001b[0m \u001b[0msatisfied\u001b[0m\u001b[0;34m\u001b[0m\u001b[0;34m\u001b[0m\u001b[0m\n\u001b[1;32m    104\u001b[0m     \"\"\"\n\u001b[0;32m--> 105\u001b[0;31m     \u001b[0mraise_if_not\u001b[0m\u001b[0;34m(\u001b[0m\u001b[0;32mnot\u001b[0m \u001b[0mcondition\u001b[0m\u001b[0;34m,\u001b[0m \u001b[0mmessage\u001b[0m\u001b[0;34m,\u001b[0m \u001b[0mlogger\u001b[0m\u001b[0;34m)\u001b[0m\u001b[0;34m\u001b[0m\u001b[0;34m\u001b[0m\u001b[0m\n\u001b[0m\u001b[1;32m    106\u001b[0m \u001b[0;34m\u001b[0m\u001b[0m\n\u001b[1;32m    107\u001b[0m \u001b[0;34m\u001b[0m\u001b[0m\n",
            "\u001b[0;32m/usr/local/lib/python3.11/dist-packages/darts/logging.py\u001b[0m in \u001b[0;36mraise_if_not\u001b[0;34m(condition, message, logger)\u001b[0m\n\u001b[1;32m     77\u001b[0m     \u001b[0;32mif\u001b[0m \u001b[0;32mnot\u001b[0m \u001b[0mcondition\u001b[0m\u001b[0;34m:\u001b[0m\u001b[0;34m\u001b[0m\u001b[0;34m\u001b[0m\u001b[0m\n\u001b[1;32m     78\u001b[0m         \u001b[0mlogger\u001b[0m\u001b[0;34m.\u001b[0m\u001b[0merror\u001b[0m\u001b[0;34m(\u001b[0m\u001b[0;34m\"ValueError: \"\u001b[0m \u001b[0;34m+\u001b[0m \u001b[0mmessage\u001b[0m\u001b[0;34m)\u001b[0m\u001b[0;34m\u001b[0m\u001b[0;34m\u001b[0m\u001b[0m\n\u001b[0;32m---> 79\u001b[0;31m         \u001b[0;32mraise\u001b[0m \u001b[0mValueError\u001b[0m\u001b[0;34m(\u001b[0m\u001b[0mmessage\u001b[0m\u001b[0;34m)\u001b[0m\u001b[0;34m\u001b[0m\u001b[0;34m\u001b[0m\u001b[0m\n\u001b[0m\u001b[1;32m     80\u001b[0m \u001b[0;34m\u001b[0m\u001b[0m\n\u001b[1;32m     81\u001b[0m \u001b[0;34m\u001b[0m\u001b[0m\n",
            "\u001b[0;31mValueError\u001b[0m: The provided validation time series dataset is too short for obtaining even one training point."
          ]
        }
      ]
    },
    {
      "cell_type": "markdown",
      "source": [
        "\"\"\"\n",
        "6. AutoML Solutions\n",
        "Consider utilizing AutoML platforms like H2O.ai or Google Cloud AutoML. These platforms automate the model selection and hyperparameter tuning processes, providing you with state-of-the-art models without needing to delve deeply into each one.\n",
        "\"\"\""
      ],
      "metadata": {
        "id": "9-HdZU2pGopW"
      }
    },
    {
      "cell_type": "code",
      "source": [
        "%%capture\n",
        "!pip install h2o\n",
        "!pip install google-cloud-aiplatform"
      ],
      "metadata": {
        "colab": {
          "base_uri": "https://localhost:8080/"
        },
        "id": "V5actiNwUHtO",
        "outputId": "633b6875-f2ec-40fa-f4e8-ad157b2a514e"
      },
      "execution_count": null,
      "outputs": [
        {
          "output_type": "stream",
          "name": "stdout",
          "text": [
            "Collecting h2o\n",
            "  Downloading h2o-3.46.0.6.tar.gz (265.8 MB)\n",
            "\u001b[2K     \u001b[90m━━━━━━━━━━━━━━━━━━━━━━━━━━━━━━━━━━━━━━━━\u001b[0m \u001b[32m265.8/265.8 MB\u001b[0m \u001b[31m5.1 MB/s\u001b[0m eta \u001b[36m0:00:00\u001b[0m\n",
            "\u001b[?25h  Preparing metadata (setup.py) ... \u001b[?25l\u001b[?25hdone\n",
            "Requirement already satisfied: requests in /usr/local/lib/python3.10/dist-packages (from h2o) (2.32.3)\n",
            "Requirement already satisfied: tabulate in /usr/local/lib/python3.10/dist-packages (from h2o) (0.9.0)\n",
            "Requirement already satisfied: charset-normalizer<4,>=2 in /usr/local/lib/python3.10/dist-packages (from requests->h2o) (3.4.0)\n",
            "Requirement already satisfied: idna<4,>=2.5 in /usr/local/lib/python3.10/dist-packages (from requests->h2o) (3.10)\n",
            "Requirement already satisfied: urllib3<3,>=1.21.1 in /usr/local/lib/python3.10/dist-packages (from requests->h2o) (2.2.3)\n",
            "Requirement already satisfied: certifi>=2017.4.17 in /usr/local/lib/python3.10/dist-packages (from requests->h2o) (2024.8.30)\n",
            "Building wheels for collected packages: h2o\n",
            "  Building wheel for h2o (setup.py) ... \u001b[?25l\u001b[?25hdone\n",
            "  Created wheel for h2o: filename=h2o-3.46.0.6-py2.py3-none-any.whl size=265859786 sha256=eb672b8d345aa18f967520d334d5ecdae07942d75a99ac82684296c23b8827f9\n",
            "  Stored in directory: /root/.cache/pip/wheels/0c/95/eb/b449c73f478dbc4557b80170cf7f2aa6db15862877e9a63536\n",
            "Successfully built h2o\n",
            "Installing collected packages: h2o\n",
            "Successfully installed h2o-3.46.0.6\n"
          ]
        }
      ]
    },
    {
      "cell_type": "code",
      "source": [
        "import h2o\n",
        "from h2o.automl import H2OAutoML\n",
        "import pandas as pd\n",
        "\n",
        "# Initialize H2O\n",
        "h2o.init()\n",
        "\n",
        "# Example data (replace this with your actual dataset)\n",
        "df = pd.DataFrame({\n",
        "    \"date\": pd.date_range(start=\"2024-01-01\", periods=100, freq=\"D\"),\n",
        "    \"value\": [i + (i % 7) * 10 for i in range(100)],  # Target variable\n",
        "})\n",
        "df[\"time_idx\"] = range(len(df))  # Time index\n",
        "\n",
        "# Convert to H2O Frame\n",
        "h2o_df = h2o.H2OFrame(df)\n",
        "\n",
        "# Specify target and predictors\n",
        "target = \"value\"\n",
        "predictors = [\"time_idx\"]"
      ],
      "metadata": {
        "id": "2r5OwdWiUMGB"
      },
      "execution_count": null,
      "outputs": []
    },
    {
      "cell_type": "code",
      "source": [
        "# Split data into training and testing sets\n",
        "train, test = h2o_df.split_frame(ratios=[0.8])\n",
        "\n",
        "# Run AutoML for time series forecasting\n",
        "aml = H2OAutoML(max_models=10, seed=1)\n",
        "aml.train(x=predictors, y=target, training_frame=train)\n",
        "\n",
        "# View leaderboard of models\n",
        "lb = aml.leaderboard\n",
        "print(lb)"
      ],
      "metadata": {
        "id": "uV5mzVmQURFQ"
      },
      "execution_count": null,
      "outputs": []
    },
    {
      "cell_type": "code",
      "source": [
        "# Get predictions on test set\n",
        "predictions = aml.leader.predict(test)\n",
        "print(predictions)\n",
        "\n",
        "# Evaluate performance on test data\n",
        "performance = aml.leader.model_performance(test)\n",
        "print(performance)"
      ],
      "metadata": {
        "id": "sIfFNdLmUUK9"
      },
      "execution_count": null,
      "outputs": []
    },
    {
      "cell_type": "markdown",
      "source": [
        "store in the cloud"
      ],
      "metadata": {
        "id": "gcjsB9TdUb6k"
      }
    },
    {
      "cell_type": "code",
      "source": [
        "from google.cloud import storage\n",
        "\n",
        "# Upload CSV file to Google Cloud Storage (replace bucket_name with your bucket)\n",
        "client = storage.Client()\n",
        "bucket = client.bucket(\"your-bucket-name\")\n",
        "blob = bucket.blob(\"time_series_data.csv\")\n",
        "blob.upload_from_filename(\"time_series_data.csv\")"
      ],
      "metadata": {
        "id": "SO0cR400Ugjb"
      },
      "execution_count": null,
      "outputs": []
    },
    {
      "cell_type": "code",
      "source": [
        "from google.cloud import aiplatform\n",
        "\n",
        "# Initialize Vertex AI client\n",
        "aiplatform.init(project=\"your-project-id\", location=\"us-central1\")\n",
        "\n",
        "# Create dataset from GCS file\n",
        "dataset = aiplatform.TabularDataset.create(\n",
        "    display_name=\"Time Series Dataset\",\n",
        "    gcs_source=[\"gs://your-bucket-name/time_series_data.csv\"],\n",
        ")\n",
        "print(dataset.resource_name)"
      ],
      "metadata": {
        "id": "yfFGodrCUkt6"
      },
      "execution_count": null,
      "outputs": []
    },
    {
      "cell_type": "code",
      "source": [
        "model = aiplatform.AutoMLTabularTrainingJob(\n",
        "    display_name=\"time_series_model\",\n",
        "    optimization_prediction_type=\"regression\",\n",
        ")\n",
        "\n",
        "# Train the model (replace target_column with your target variable name)\n",
        "model_resource = model.run(\n",
        "    dataset=dataset,\n",
        "    target_column=\"value\",\n",
        "    input_data_config={\"data_split\": {\"training_fraction\": 0.8}},\n",
        "    model_display_name=\"time_series_model\",\n",
        ")"
      ],
      "metadata": {
        "id": "J67TBVutUnKY"
      },
      "execution_count": null,
      "outputs": []
    },
    {
      "cell_type": "code",
      "source": [
        "endpoint = model_resource.deploy(machine_type=\"n1-standard-4\")\n",
        "\n",
        "# Predict on new data (as a pandas DataFrame)\n",
        "instances = [{\"time_idx\": i} for i in range(101, 110)]\n",
        "predictions = endpoint.predict(instances=instances)\n",
        "print(predictions)"
      ],
      "metadata": {
        "id": "KYIPDrnuUoyl"
      },
      "execution_count": null,
      "outputs": []
    }
  ]
}